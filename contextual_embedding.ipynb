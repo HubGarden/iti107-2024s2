{
  "cells": [
    {
      "cell_type": "markdown",
      "metadata": {
        "id": "view-in-github",
        "colab_type": "text"
      },
      "source": [
        "<a href=\"https://colab.research.google.com/github/nyp-sit/iti107-2024S2/blob/main/contextual_embedding.ipynb\" target=\"_parent\"><img src=\"https://colab.research.google.com/assets/colab-badge.svg\" alt=\"Open In Colab\"/></a>"
      ]
    },
    {
      "cell_type": "markdown",
      "metadata": {
        "id": "dKanFNbpTfv4"
      },
      "source": [
        "# Contextual Embedding"
      ]
    },
    {
      "cell_type": "markdown",
      "metadata": {
        "id": "-8phFkS4Tfv7"
      },
      "source": [
        "One of the main drawbacks of embeddings such as Word2Vec and GloVE are that they have the same embedding for the same word regardless of its meaning in a particular context. For example, the word `rock` in `The rock concert is being held at national stadium` have a very different meaning in `The naughty boy throws a rock at the dog`.\n",
        "\n",
        "Contextual embedding such as those produced by transformers (where the modern-day large language are based on) took into account the context of the word, and different embedding is generated for the same word depending on the context."
      ]
    },
    {
      "cell_type": "markdown",
      "metadata": {
        "id": "nte0QWOZwOAw"
      },
      "source": [
        "## Install Hugging Face Transformers library\n",
        "If you are running this notebook in Google Colab, you will need to install the Hugging Face transformers library as it is not part of the standard environment."
      ]
    },
    {
      "cell_type": "code",
      "execution_count": 1,
      "metadata": {
        "id": "JcAO5A0oVMOj"
      },
      "outputs": [],
      "source": [
        "%%capture\n",
        "!pip install transformers"
      ]
    },
    {
      "cell_type": "markdown",
      "source": [
        "Let's try to generate some embeddings using one of the transformer model `deberta`."
      ],
      "metadata": {
        "id": "rO0i7U9ohSGz"
      }
    },
    {
      "cell_type": "code",
      "source": [
        "from transformers import AutoModel, AutoTokenizer\n",
        "# Load a tokenizer\n",
        "tokenizer = AutoTokenizer.from_pretrained(\"microsoft/deberta-base\")"
      ],
      "metadata": {
        "colab": {
          "base_uri": "https://localhost:8080/",
          "height": 200,
          "referenced_widgets": [
            "d1da3f5e7e77409c845a6da1747acf49",
            "d6720e941eab4d109cdb778213662209",
            "b10335d83a7043d0bf86b5c25f6475f4",
            "022c4c5506ca48d19e30864f0e45e1d6",
            "7a04fb0ce63a4d7db62bd7c7ec819b45",
            "8e0ce7ef84ac4ae1ae19351bf016c049",
            "affabe100f8e453f90480a643f289e83",
            "05ca34e958c042fbb648d99fba6f3212",
            "16d79e321bcc47c3b08b6839e9a52a68",
            "db711f1336ea4cac84b0da88f0f7d0f4",
            "0a73bfc8f7794e6cb9401e4998a17469",
            "6ce0ac9ea3ec4489a78dfb07e1e80a9f",
            "7f2b43a115cf4d8ea698cadf7f79a127",
            "c8f2b0221ca64da0a856f758ecdbf20e",
            "041692265a23478086a6d2d1e7deeeb8",
            "b2db9b6c4d3e4a47884654beb5a1ea18",
            "63564cb3ea1743a28228eb643757826a",
            "e062c7b0fbc549679e1a430577ee57ee",
            "30dfa597f49c4ee9b24391c3acf5d95d",
            "21ada4e07caf4c4ebc6f48a40e4d0a02",
            "1726934f171a4cedb40ad046c949fbab",
            "af825a36e1ca4ec1abd992058749521d",
            "cc133e5b02ff45e79f6b4539c6c7e258",
            "b1fa97c7fd1c4fc39bfd3f54b33bc9e7",
            "41fa80d9d0af4af0aa318a603e67195a",
            "f69529a3e510411ba059218dd1f4dfcd",
            "cc92a025886e4edd9d5055ac5a2dfce5",
            "69daa89919154f6e9f35872338b6ff27",
            "131697c7817549f6bd36f4177dd055fc",
            "2756edc9602c4cd18a83de10344740d2",
            "a991e31e0c9a400987eecc8e8e38cb6b",
            "edf37449390b4f02a57887978df4b3c8",
            "5f3e78827b3e47bbba1ab877b34df887",
            "87b5e847d4304df79c1408fbae3d9929",
            "732b724b9f244ae2a9dd453efbb2d9c6",
            "ef62f52028044e899052065116a1d8f4",
            "c5364f98fd6e4895babcf3e0eb4d7236",
            "dec64c4b178f4dd9a29387faccf18db3",
            "1af8bdbce1ea4516b9ff0a0102581dbc",
            "fc57ae5983ba4ae1ae6a0e9760d3760f",
            "94a596fc5c1f44d4be8f643f905f2bc0",
            "7441dafe316945aba373067ec1479ab8",
            "ae8a08c64c414c4789a598bf50026fb5",
            "796d965316154130aa7ef85b0720fe6d"
          ]
        },
        "id": "82NPCKELP2cE",
        "outputId": "931a8974-9510-42a2-b38f-ce6262cf49c6"
      },
      "execution_count": 2,
      "outputs": [
        {
          "output_type": "display_data",
          "data": {
            "text/plain": [
              "tokenizer_config.json:   0%|          | 0.00/52.0 [00:00<?, ?B/s]"
            ],
            "application/vnd.jupyter.widget-view+json": {
              "version_major": 2,
              "version_minor": 0,
              "model_id": "d1da3f5e7e77409c845a6da1747acf49"
            }
          },
          "metadata": {}
        },
        {
          "output_type": "display_data",
          "data": {
            "text/plain": [
              "config.json:   0%|          | 0.00/474 [00:00<?, ?B/s]"
            ],
            "application/vnd.jupyter.widget-view+json": {
              "version_major": 2,
              "version_minor": 0,
              "model_id": "6ce0ac9ea3ec4489a78dfb07e1e80a9f"
            }
          },
          "metadata": {}
        },
        {
          "output_type": "display_data",
          "data": {
            "text/plain": [
              "vocab.json:   0%|          | 0.00/899k [00:00<?, ?B/s]"
            ],
            "application/vnd.jupyter.widget-view+json": {
              "version_major": 2,
              "version_minor": 0,
              "model_id": "cc133e5b02ff45e79f6b4539c6c7e258"
            }
          },
          "metadata": {}
        },
        {
          "output_type": "display_data",
          "data": {
            "text/plain": [
              "merges.txt:   0%|          | 0.00/456k [00:00<?, ?B/s]"
            ],
            "application/vnd.jupyter.widget-view+json": {
              "version_major": 2,
              "version_minor": 0,
              "model_id": "87b5e847d4304df79c1408fbae3d9929"
            }
          },
          "metadata": {}
        },
        {
          "output_type": "stream",
          "name": "stderr",
          "text": [
            "/usr/local/lib/python3.10/dist-packages/transformers/tokenization_utils_base.py:1601: FutureWarning: `clean_up_tokenization_spaces` was not set. It will be set to `True` by default. This behavior will be depracted in transformers v4.45, and will be then set to `False` by default. For more details check this issue: https://github.com/huggingface/transformers/issues/31884\n",
            "  warnings.warn(\n"
          ]
        }
      ]
    },
    {
      "cell_type": "code",
      "source": [
        "# Load a language model\n",
        "model = AutoModel.from_pretrained(\"microsoft/deberta-v3-xsmall\")\n",
        "# Tokenize the sentence\n",
        "tokens = tokenizer('The rock concert is being held at national stadium.', return_tensors='pt')\n",
        "print(tokens)\n",
        "for token in tokens['input_ids'][0]:\n",
        "    print(tokenizer.decode(token))"
      ],
      "metadata": {
        "colab": {
          "base_uri": "https://localhost:8080/"
        },
        "id": "A0qLQXtCP4yI",
        "outputId": "4eade4ed-76da-4e49-aed9-2f9d6eb92a34"
      },
      "execution_count": 4,
      "outputs": [
        {
          "output_type": "stream",
          "name": "stdout",
          "text": [
            "{'input_ids': tensor([[   1,  133, 3152, 4192,   16,  145,  547,   23,  632, 4773,    4,    2]]), 'token_type_ids': tensor([[0, 0, 0, 0, 0, 0, 0, 0, 0, 0, 0, 0]]), 'attention_mask': tensor([[1, 1, 1, 1, 1, 1, 1, 1, 1, 1, 1, 1]])}\n",
            "[CLS]\n",
            "The\n",
            " rock\n",
            " concert\n",
            " is\n",
            " being\n",
            " held\n",
            " at\n",
            " national\n",
            " stadium\n",
            ".\n",
            "[SEP]\n"
          ]
        }
      ]
    },
    {
      "cell_type": "markdown",
      "source": [
        "We will pass the tokens through the model to generate embeddings.  We will take the embedding produced by the last layer."
      ],
      "metadata": {
        "id": "EdIhrOD8h0mY"
      }
    },
    {
      "cell_type": "code",
      "source": [
        "# Process the tokens\n",
        "embeddings_1 = model(**tokens)[0]\n",
        "print(embeddings_1)"
      ],
      "metadata": {
        "colab": {
          "base_uri": "https://localhost:8080/"
        },
        "id": "e5BoSbY9QBRG",
        "outputId": "5de0f27d-bda0-47ac-c7cf-3d6148945d5f"
      },
      "execution_count": 5,
      "outputs": [
        {
          "output_type": "stream",
          "name": "stdout",
          "text": [
            "tensor([[[-3.3300, -0.0213,  0.1184,  ..., -0.2487, -0.2351,  0.3524],\n",
            "         [-0.1233, -0.1571,  0.7768,  ..., -0.3475,  0.5131, -0.0671],\n",
            "         [-0.4908,  0.1666,  0.5813,  ..., -0.4292, -0.4206, -0.4516],\n",
            "         ...,\n",
            "         [-0.0890,  0.7978,  0.7153,  ...,  0.2171,  0.2045,  0.2699],\n",
            "         [-1.3818,  0.4259,  0.5570,  ...,  0.6608,  0.6024, -0.3742],\n",
            "         [-3.2719,  0.1538,  0.1215,  ..., -0.4146, -0.2362,  0.5298]]],\n",
            "       grad_fn=<NativeLayerNormBackward0>)\n"
          ]
        }
      ]
    },
    {
      "cell_type": "markdown",
      "source": [
        "**Questions**\n",
        "\n",
        "1. What is the shape of the embeddings?\n",
        "2. Why is the shape is such?"
      ],
      "metadata": {
        "id": "pH_lvBExis_W"
      }
    },
    {
      "cell_type": "markdown",
      "source": [
        "Let's try to find the embedding of the token 'rock' used here."
      ],
      "metadata": {
        "id": "G8io3vzuiPHK"
      }
    },
    {
      "cell_type": "code",
      "source": [
        "embedding_rock1 = embeddings_1[0][2]\n",
        "print(embedding_rock1)"
      ],
      "metadata": {
        "id": "kjqUWgowiVmy"
      },
      "execution_count": null,
      "outputs": []
    },
    {
      "cell_type": "code",
      "source": [],
      "metadata": {
        "id": "bSmmMUmkjC1I"
      },
      "execution_count": null,
      "outputs": []
    },
    {
      "cell_type": "markdown",
      "source": [
        "Now write codes to find the embeddings of the word `rock` as used in the sentence `The naughty boy throws a rock at the dog.` and `The boy throws the rock into the drain`.\n"
      ],
      "metadata": {
        "id": "3wgEKbkojDbe"
      }
    },
    {
      "cell_type": "code",
      "source": [
        "tokens = tokenizer('The naughty boy throws a rock at the dog.', return_tensors='pt')\n",
        "print(tokens)\n",
        "for token in tokens['input_ids'][0]:\n",
        "    print(tokenizer.decode(token))\n",
        "embeddings_2 = model(**tokens)[0]\n",
        "embedding_rock2 = embeddings_2[0][6]\n",
        "print(embedding_rock2)"
      ],
      "metadata": {
        "id": "tYUkJJh4Qhzs"
      },
      "execution_count": null,
      "outputs": []
    },
    {
      "cell_type": "code",
      "source": [
        "tokens = tokenizer('The boy throws the rock into the drain.', return_tensors='pt')\n",
        "print(tokens)\n",
        "for token in tokens['input_ids'][0]:\n",
        "    print(tokenizer.decode(token))\n",
        "embeddings_3 = model(**tokens)[0]\n",
        "embedding_rock3 = embeddings_3[0][5]\n",
        "print(embedding_rock3)"
      ],
      "metadata": {
        "colab": {
          "base_uri": "https://localhost:8080/"
        },
        "id": "2ESGR29ukgUw",
        "outputId": "a1e8b123-c39a-4493-eabc-e81ba748778d"
      },
      "execution_count": 15,
      "outputs": [
        {
          "output_type": "stream",
          "name": "stdout",
          "text": [
            "{'input_ids': tensor([[    1,   133,  2143,  6989,     5,  3152,    88,     5, 15160,     4,\n",
            "             2]]), 'token_type_ids': tensor([[0, 0, 0, 0, 0, 0, 0, 0, 0, 0, 0]]), 'attention_mask': tensor([[1, 1, 1, 1, 1, 1, 1, 1, 1, 1, 1]])}\n",
            "[CLS]\n",
            "The\n",
            " boy\n",
            " throws\n",
            " the\n",
            " rock\n",
            " into\n",
            " the\n",
            " drain\n",
            ".\n",
            "[SEP]\n",
            "tensor([-2.3196e-01,  2.1071e-01,  6.2342e-01, -2.7786e+00,  5.1574e-02,\n",
            "         3.1599e-01,  7.5339e-02, -9.4382e-01,  1.3343e+00, -8.2008e-01,\n",
            "        -2.5001e-01, -1.7147e-01,  1.9489e-01,  1.1405e-01, -2.6709e-01,\n",
            "        -5.0175e-01,  2.8915e-02, -9.0471e-01,  6.7788e-01,  1.9722e+00,\n",
            "        -3.1726e-01, -5.2483e-01,  6.1962e-01,  3.2000e+00,  1.1604e+00,\n",
            "         3.0195e-01,  1.1973e-01,  1.5559e+00, -1.0279e+00,  2.4765e+00,\n",
            "         1.9272e-01, -3.0063e-02,  5.6097e-01, -2.6215e+00,  2.0704e-01,\n",
            "        -6.0283e-01,  8.3411e-01, -3.4919e-01,  4.9485e-01, -1.0404e-01,\n",
            "        -9.4652e-02, -6.2800e-01, -1.8027e+00, -9.5371e-01,  5.2433e-01,\n",
            "         3.0184e-01, -4.3497e-01,  1.0706e-01,  9.4054e-01, -5.2112e-01,\n",
            "         1.5285e+00,  8.1095e-01,  1.2184e+00, -4.8836e-01, -9.7903e+00,\n",
            "         2.3375e-01, -5.7893e-01,  9.5367e-02,  4.2480e+00,  8.9324e-01,\n",
            "         1.9508e-01,  4.7753e-01, -6.4663e-01, -8.1671e-02,  1.0568e+00,\n",
            "         3.4460e-01, -6.9582e-01,  1.4510e-01,  1.2439e+00, -1.9325e+00,\n",
            "         5.0082e-02, -1.0604e-01,  1.4779e-01, -1.9292e+00, -8.4915e-01,\n",
            "        -1.6702e+00,  1.3150e+00,  1.6748e+00, -4.1258e-02, -7.2047e-01,\n",
            "         3.1829e-01,  3.1460e+00,  4.6839e-01, -2.4095e-01, -3.8351e-01,\n",
            "        -4.0323e-01, -4.0282e-02, -3.7093e-01,  3.1626e-01, -1.7253e-01,\n",
            "         3.6921e-01,  5.4346e-01,  2.5893e-01, -7.3427e-01, -6.2427e-02,\n",
            "         9.2648e-02,  2.3844e-01, -2.4632e-01, -1.1253e+00, -5.0747e-01,\n",
            "        -8.4525e-01,  1.4997e-01,  1.5623e-01, -2.3121e-01, -6.0428e-01,\n",
            "         5.2436e-01,  1.8149e+00,  5.5805e-01,  9.8053e-02,  9.3746e-01,\n",
            "         1.1557e-01, -6.6332e-01, -8.3569e-02, -3.2006e-01,  1.2355e-01,\n",
            "        -2.1949e-01,  2.2167e-02,  1.1387e+00,  7.4349e-02, -8.7241e-02,\n",
            "         8.0547e-01, -4.5786e-01, -1.5396e+00, -6.8355e-01,  2.6196e+00,\n",
            "         1.3239e+00,  4.4692e-01, -1.1160e+00, -3.9195e-01,  1.9117e-01,\n",
            "         1.3570e-01,  3.8607e-01,  5.4218e+00, -2.3569e-01, -3.2036e-01,\n",
            "         4.6984e-01, -1.3010e+00,  1.5446e-01,  5.1575e-02, -8.0118e-01,\n",
            "        -6.9024e-01,  1.4144e-01, -3.2513e-01,  6.5563e-01,  5.5266e-01,\n",
            "         4.3827e-01, -5.3018e-01,  8.2205e-01, -2.9323e-01, -4.8133e+00,\n",
            "        -2.1156e-01, -4.8439e-01,  7.6966e-03, -2.9622e-01,  7.6621e-01,\n",
            "        -5.0388e+00, -6.8734e-01, -2.8752e+00, -3.0343e-01, -3.9589e+00,\n",
            "        -4.5857e-01,  8.1490e-01, -4.9043e+00,  4.9567e-01,  1.7621e+00,\n",
            "        -2.2278e+00,  8.5607e-02,  1.1107e+00,  5.4084e-02, -1.4397e-01,\n",
            "         1.8371e+00,  4.8615e-01,  3.4078e-01, -2.1371e-01, -9.8676e-02,\n",
            "        -9.3259e-01, -8.1136e-01, -8.3879e-01,  9.6179e-01, -1.1348e+00,\n",
            "         3.7956e-02, -2.3227e-01, -6.8148e-01,  1.7253e-01, -1.8294e-01,\n",
            "         5.2817e-01, -2.7148e+00, -5.9692e-01,  8.2006e-02,  4.7213e-01,\n",
            "         1.2056e-02, -3.4464e-01,  8.4489e-01,  6.7091e-01,  2.1977e-01,\n",
            "        -8.1701e-01, -1.4289e-01,  9.5004e-01, -3.5070e-01,  1.7286e-02,\n",
            "         7.7462e-01,  6.4122e-01, -1.0915e+00, -3.3413e-01,  1.0692e+00,\n",
            "        -7.4126e-01, -1.2451e+00,  1.0427e-01,  8.6453e-01, -6.0320e-01,\n",
            "         2.9495e+00, -1.8969e-01,  3.8994e+00, -6.6027e-01, -3.3096e-02,\n",
            "         3.1727e-01,  2.3840e-01, -6.2639e-01, -4.2835e-02,  1.1006e+00,\n",
            "         1.2966e-01,  7.2720e-01,  6.2104e-01, -2.1051e-01,  6.1637e-01,\n",
            "        -2.9816e+00, -4.1429e+00, -1.0176e+00, -2.6715e-01,  6.9651e-01,\n",
            "         6.1090e-02, -7.5157e-01, -2.8316e-02,  5.4433e-01,  8.0408e-01,\n",
            "        -1.7186e+00,  2.0513e+00,  1.3447e+00, -2.6344e-01,  7.5569e-01,\n",
            "         4.0171e-03,  2.7323e-01,  2.8850e-01,  2.4343e-02,  1.9726e+00,\n",
            "        -8.8769e-01,  3.1538e-01, -6.9306e-01, -7.7159e-01,  7.3592e-02,\n",
            "         5.7119e-02,  5.8949e-01, -3.0528e-01,  2.9927e-01, -1.9814e+00,\n",
            "         5.3701e-01,  1.0625e+00, -3.8206e+00, -4.1740e-01,  3.2783e-01,\n",
            "         7.4865e-01,  4.4616e-01,  1.0081e+00,  7.3667e-02, -4.0076e-01,\n",
            "         4.2090e-01,  7.5759e-01, -2.8943e-01,  9.9741e-01, -9.0390e-01,\n",
            "        -8.3680e-02, -5.4214e-01, -2.4821e-01, -2.2179e-02, -1.4761e-01,\n",
            "         7.1621e-01,  5.5942e-01, -2.5287e-02, -1.0818e+00, -4.6704e-01,\n",
            "         2.4689e-02, -3.4421e-02,  2.3087e+00, -5.2590e-01,  1.5935e+00,\n",
            "        -3.8341e+00, -2.1701e-01,  1.6870e+00, -6.5754e-01,  2.6112e-01,\n",
            "        -4.3438e-01, -3.1375e-01, -9.5935e-01,  2.4596e-01, -6.3876e-01,\n",
            "        -3.2842e-01, -5.5690e-02,  7.2789e-01,  6.8116e-01, -2.0918e-01,\n",
            "         1.6547e-01, -6.5189e-01, -2.7231e+00, -3.1095e+00, -3.9048e-01,\n",
            "         2.0405e+00,  1.2959e+00, -3.0801e-01,  1.0452e-01, -1.6793e+00,\n",
            "        -1.5980e+00, -1.0194e+00,  9.0706e-01,  4.0264e-01, -3.8968e-01,\n",
            "         3.7071e-01, -3.9911e-02,  1.7429e-01, -3.7666e-01, -4.0121e-01,\n",
            "        -4.9696e-01, -3.3406e-01,  2.9869e-01, -2.8729e+00, -3.7463e-02,\n",
            "        -4.3279e-01, -2.1005e+00,  4.3272e-01, -2.0734e+00, -3.8133e-01,\n",
            "        -1.3085e-01, -5.2618e-02,  8.0997e-01,  1.1844e-02,  1.6435e+00,\n",
            "        -1.0984e+00,  2.6970e+00,  1.1775e+00,  4.2487e-01, -9.2400e-02,\n",
            "         2.2138e-01, -1.3863e-01,  5.1784e-03, -9.4749e-01,  2.1119e+00,\n",
            "        -1.3163e-02, -1.0157e+00, -3.4629e-01,  2.3128e-01,  2.0577e+00,\n",
            "        -8.0392e-02, -7.9370e-01,  4.4993e-01, -6.8298e-01,  1.0237e+00,\n",
            "         8.3529e-01,  5.7642e-01,  8.4351e-01, -6.9529e-02,  7.5951e-01,\n",
            "        -2.4609e-01,  6.3393e+00, -9.4148e-01,  6.6304e-01,  1.3588e-01,\n",
            "         1.1002e-01,  1.8527e-01, -3.2876e+00,  6.2168e-01, -6.2608e-01,\n",
            "         3.8450e+00,  7.6933e-01, -7.9413e-02, -1.1116e+00,  4.5979e-01,\n",
            "         1.4874e+00,  1.0024e+00, -1.0552e-01,  2.5402e+00, -1.0475e-01,\n",
            "         3.6442e-01,  1.2157e+00, -6.6437e-01, -1.1800e+00],\n",
            "       grad_fn=<SelectBackward0>)\n"
          ]
        }
      ]
    },
    {
      "cell_type": "code",
      "source": [],
      "metadata": {
        "id": "Fp9VuFE3ky5n"
      },
      "execution_count": 15,
      "outputs": []
    },
    {
      "cell_type": "markdown",
      "source": [
        "Let's compute how similar are the embeddings to each other"
      ],
      "metadata": {
        "id": "E9JKxtJWk0TM"
      }
    },
    {
      "cell_type": "code",
      "source": [
        "import torch\n",
        "\n",
        "cos = torch.nn.CosineSimilarity(dim=0)\n",
        "similarity1 = cos(embedding_rock1, embedding_rock2)\n",
        "print(similarity1)\n",
        "\n",
        "similarity2 = cos(embedding_rock2, embedding_rock3)\n",
        "print(similarity2)\n",
        "\n"
      ],
      "metadata": {
        "colab": {
          "base_uri": "https://localhost:8080/"
        },
        "id": "dWcM7DqjQ6z9",
        "outputId": "e179977f-be50-4ac1-ab97-5107606edb5f"
      },
      "execution_count": 16,
      "outputs": [
        {
          "output_type": "stream",
          "name": "stdout",
          "text": [
            "tensor(0.7695, grad_fn=<SumBackward1>)\n",
            "tensor(0.8779, grad_fn=<SumBackward1>)\n"
          ]
        }
      ]
    },
    {
      "cell_type": "markdown",
      "source": [
        "We can see that embedding_rock2 are more similar to embedding_rock3 than with embedding_rock1."
      ],
      "metadata": {
        "id": "elwn5Tr9SrDx"
      }
    },
    {
      "cell_type": "code",
      "execution_count": null,
      "metadata": {
        "id": "uh7XepZEZ3Ll"
      },
      "outputs": [],
      "source": [
        "# downloaded the datasets.\n",
        "test_data_url = 'https://nyp-aicourse.s3-ap-southeast-1.amazonaws.com/datasets/imdb_test.csv'\n",
        "train_data_url = 'https://nyp-aicourse.s3-ap-southeast-1.amazonaws.com/datasets/imdb_train.csv'\n",
        "\n",
        "train_df = pd.read_csv(train_data_url)\n",
        "test_df = pd.read_csv(test_data_url)"
      ]
    },
    {
      "cell_type": "markdown",
      "metadata": {
        "id": "TD78Yn9zw5Yw"
      },
      "source": [
        "The train set has 40000 samples. We will use a small subset (e.g. 2000) samples for finetuning our pretrained model. Similarly we will use a smaller test set for evaluating our model. We use dataframe's sample() to randomly select a subset of samples."
      ]
    },
    {
      "cell_type": "code",
      "execution_count": null,
      "metadata": {
        "id": "TGpIN8KExCOH"
      },
      "outputs": [],
      "source": [
        "TRAIN_SIZE = 2000\n",
        "TEST_SIZE = 200\n",
        "\n",
        "train_df = train_df.sample(n=TRAIN_SIZE, random_state=128)\n",
        "test_df = test_df.sample(n=TEST_SIZE, random_state=128)"
      ]
    },
    {
      "cell_type": "code",
      "execution_count": null,
      "metadata": {
        "id": "8VcdskhQxIcH"
      },
      "outputs": [],
      "source": [
        "train_df['sentiment'] =  train_df['sentiment'].apply(lambda x: 0 if x == 'negative' else 1)\n",
        "test_df['sentiment'] =  test_df['sentiment'].apply(lambda x: 0 if x == 'negative' else 1)"
      ]
    },
    {
      "cell_type": "code",
      "execution_count": null,
      "metadata": {
        "id": "7ORi78_VxN3f"
      },
      "outputs": [],
      "source": [
        "train_texts = train_df['review'].to_list()\n",
        "train_labels = train_df['sentiment'].to_list()\n",
        "test_texts = test_df['review'].to_list()\n",
        "test_labels = test_df['sentiment'].to_list()"
      ]
    },
    {
      "cell_type": "code",
      "execution_count": null,
      "metadata": {
        "id": "0ikfIcafxSMC"
      },
      "outputs": [],
      "source": [
        "train_texts, val_texts, train_labels, val_labels = train_test_split(train_texts, train_labels, test_size=.2)"
      ]
    },
    {
      "cell_type": "markdown",
      "metadata": {
        "id": "zmboqVJWTfwA"
      },
      "source": [
        "## Tokenization\n",
        "\n",
        "We will now load the DistilBert tokenizer for the pretrained model \"distillbert-base-uncased\".  This is the same as the other lab exercise."
      ]
    },
    {
      "cell_type": "code",
      "execution_count": null,
      "metadata": {
        "id": "f5THnkPITfwA"
      },
      "outputs": [],
      "source": [
        "from transformers import AutoTokenizer\n",
        "\n",
        "tokenizer = AutoTokenizer.from_pretrained('distilbert-base-uncased')"
      ]
    },
    {
      "cell_type": "markdown",
      "metadata": {
        "id": "BVFbiO3STfwB"
      },
      "source": [
        "Here we will tokenize the text string, and pad the text string to the longest sequence in the batch, and also to truncate the sequence if it exceeds the maximum length allowed by the model (in BERT's case, it is 512)."
      ]
    },
    {
      "cell_type": "code",
      "execution_count": null,
      "metadata": {
        "id": "BnqjMMCWTfwB"
      },
      "outputs": [],
      "source": [
        "train_encodings = tokenizer(train_texts, padding=True, truncation=True)\n",
        "val_encodings = tokenizer(val_texts, padding=True, truncation=True)\n",
        "test_encodings = tokenizer(test_texts, padding=True, truncation=True)"
      ]
    },
    {
      "cell_type": "code",
      "execution_count": null,
      "metadata": {
        "id": "s9erZtYHx7st"
      },
      "outputs": [],
      "source": [
        "train_encodings[1]"
      ]
    },
    {
      "cell_type": "markdown",
      "metadata": {
        "id": "pfgdY5C9TfwB"
      },
      "source": [
        "We will create a tensorflow dataset and use it's efficient batching later to obtain the embeddings."
      ]
    },
    {
      "cell_type": "code",
      "execution_count": null,
      "metadata": {
        "id": "b6Znx8EnTfwB"
      },
      "outputs": [],
      "source": [
        "BATCH_SIZE = 16"
      ]
    },
    {
      "cell_type": "code",
      "execution_count": null,
      "metadata": {
        "id": "0HNwF7yYTfwB"
      },
      "outputs": [],
      "source": [
        "batch_size = 16\n",
        "\n",
        "train_dataset = tf.data.Dataset.from_tensor_slices((\n",
        "    dict(train_encodings),\n",
        "    train_labels\n",
        ")).batch(batch_size)\n",
        "\n",
        "val_dataset = tf.data.Dataset.from_tensor_slices((\n",
        "    dict(val_encodings),\n",
        "    val_labels\n",
        ")).batch(batch_size)\n",
        "\n",
        "test_dataset = tf.data.Dataset.from_tensor_slices((\n",
        "    dict(test_encodings),\n",
        "    test_labels\n",
        ")).batch(batch_size)"
      ]
    },
    {
      "cell_type": "markdown",
      "metadata": {
        "id": "GBuGjl7fTfwC"
      },
      "source": [
        "Here we instantiate a pretrained model from 'distilbert-base-cased' and specify output_hidden_state=True so that we get the output from each of the attention layers."
      ]
    },
    {
      "cell_type": "markdown",
      "metadata": {
        "id": "c7Pgl3CDTfwC"
      },
      "source": [
        "## Feature Extraction using (Distil)BERT.\n",
        "\n",
        "Here we will load the pretrained model for distibert-based-uncased and use it to extract features from the text (i.e. emeddings)."
      ]
    },
    {
      "cell_type": "code",
      "execution_count": null,
      "metadata": {
        "id": "hKSzCCRyTfwC"
      },
      "outputs": [],
      "source": [
        "from transformers import TFAutoModel\n",
        "\n",
        "model = TFAutoModel.from_pretrained(\"distilbert-base-uncased\",output_hidden_states=True)"
      ]
    },
    {
      "cell_type": "markdown",
      "metadata": {
        "id": "XCrWYnDBTfwD"
      },
      "source": [
        "The model will produce two outputs: the 1st output `output[0]` is of shape `(16, 512, 768)` which corresponds to the output of the last hidden layer and the second output `output[1]` is a list of 7 outputs of shape `(16, 512, 768)`, corresponding to the output of each of the 6 attention layers and the output. 768 refers to the hidden size."
      ]
    },
    {
      "cell_type": "code",
      "execution_count": null,
      "metadata": {
        "id": "B793BJtwTfwD"
      },
      "outputs": [],
      "source": [
        "def extract_features(dataset):\n",
        "\n",
        "    embeddings = []\n",
        "    labels = []\n",
        "\n",
        "    for encoding, label in dataset:\n",
        "        output = model(encoding)\n",
        "        hidden_states = output[1]\n",
        "        # here we take the output of the second last attention layer as our embeddings.\n",
        "        # We take the average of the embedding value of 512 tokens (at axis=1) to generate sentence embedding\n",
        "        sentence_embedding = tf.reduce_mean(hidden_states[-2], axis=1).numpy()\n",
        "        embeddings.append(sentence_embedding)\n",
        "        labels.append(label)\n",
        "\n",
        "    embeddings, labels = np.concatenate(embeddings), np.concatenate(labels)\n",
        "\n",
        "    return embeddings, labels"
      ]
    },
    {
      "cell_type": "code",
      "execution_count": null,
      "metadata": {
        "id": "Vr5i4L7XTfwD"
      },
      "outputs": [],
      "source": [
        "X_train, y_train = extract_features(train_dataset)\n",
        "X_val, y_val = extract_features(val_dataset)\n",
        "X_test, y_test = extract_features(test_dataset)"
      ]
    },
    {
      "cell_type": "markdown",
      "metadata": {
        "id": "FbhAG0WnTfwD"
      },
      "source": [
        "## Train a classifier using the extracted features (embeddings)"
      ]
    },
    {
      "cell_type": "code",
      "execution_count": null,
      "metadata": {
        "id": "qXcp4ytm5Un-"
      },
      "outputs": [],
      "source": [
        "X_train.shape"
      ]
    },
    {
      "cell_type": "code",
      "execution_count": null,
      "metadata": {
        "id": "XiA0JMdzTfwE"
      },
      "outputs": [],
      "source": [
        "from sklearn.linear_model import LogisticRegression\n",
        "from sklearn.metrics import classification_report"
      ]
    },
    {
      "cell_type": "code",
      "execution_count": null,
      "metadata": {
        "id": "SQhBq-1sTfwE"
      },
      "outputs": [],
      "source": [
        "clf = LogisticRegression(max_iter=1000)\n",
        "clf.fit(X_train, y_train)"
      ]
    },
    {
      "cell_type": "code",
      "execution_count": null,
      "metadata": {
        "id": "wOU0lubfFS6z"
      },
      "outputs": [],
      "source": [
        "print(f'train score : {clf.score(X_train, y_train)}')\n",
        "print(f'validation score : {clf.score(X_val, y_val)}')\n",
        "print(f'test score : {clf.score(X_test, y_test)}')"
      ]
    },
    {
      "cell_type": "markdown",
      "metadata": {
        "id": "EyaH5WnxTfwE"
      },
      "source": [
        "We should be getting an validation and accuracy score of around 86% to 87% which is quite good, considering we are training with only 2000 samples!"
      ]
    },
    {
      "cell_type": "markdown",
      "metadata": {
        "id": "8SVDxRUdTfwE"
      },
      "source": [
        "**Exercise**\n",
        "\n",
        "1. Modify the code to use the hidden states from a different attention layer as features or take average of hidden states  from few layers as features.\n",
        "2. Modify the code to use BERT model and see if it performs better than the DistilBERT. For BERT Model, the output of different layers are in `output[2]`"
      ]
    },
    {
      "cell_type": "code",
      "execution_count": null,
      "metadata": {
        "id": "Ohs_qdbrthxv"
      },
      "outputs": [],
      "source": []
    }
  ],
  "metadata": {
    "accelerator": "GPU",
    "colab": {
      "provenance": [],
      "include_colab_link": true
    },
    "kernelspec": {
      "display_name": "Python 3 (ipykernel)",
      "language": "python",
      "name": "python3"
    },
    "language_info": {
      "codemirror_mode": {
        "name": "ipython",
        "version": 3
      },
      "file_extension": ".py",
      "mimetype": "text/x-python",
      "name": "python",
      "nbconvert_exporter": "python",
      "pygments_lexer": "ipython3",
      "version": "3.11.5"
    },
    "widgets": {
      "application/vnd.jupyter.widget-state+json": {
        "d1da3f5e7e77409c845a6da1747acf49": {
          "model_module": "@jupyter-widgets/controls",
          "model_name": "HBoxModel",
          "model_module_version": "1.5.0",
          "state": {
            "_dom_classes": [],
            "_model_module": "@jupyter-widgets/controls",
            "_model_module_version": "1.5.0",
            "_model_name": "HBoxModel",
            "_view_count": null,
            "_view_module": "@jupyter-widgets/controls",
            "_view_module_version": "1.5.0",
            "_view_name": "HBoxView",
            "box_style": "",
            "children": [
              "IPY_MODEL_d6720e941eab4d109cdb778213662209",
              "IPY_MODEL_b10335d83a7043d0bf86b5c25f6475f4",
              "IPY_MODEL_022c4c5506ca48d19e30864f0e45e1d6"
            ],
            "layout": "IPY_MODEL_7a04fb0ce63a4d7db62bd7c7ec819b45"
          }
        },
        "d6720e941eab4d109cdb778213662209": {
          "model_module": "@jupyter-widgets/controls",
          "model_name": "HTMLModel",
          "model_module_version": "1.5.0",
          "state": {
            "_dom_classes": [],
            "_model_module": "@jupyter-widgets/controls",
            "_model_module_version": "1.5.0",
            "_model_name": "HTMLModel",
            "_view_count": null,
            "_view_module": "@jupyter-widgets/controls",
            "_view_module_version": "1.5.0",
            "_view_name": "HTMLView",
            "description": "",
            "description_tooltip": null,
            "layout": "IPY_MODEL_8e0ce7ef84ac4ae1ae19351bf016c049",
            "placeholder": "​",
            "style": "IPY_MODEL_affabe100f8e453f90480a643f289e83",
            "value": "tokenizer_config.json: 100%"
          }
        },
        "b10335d83a7043d0bf86b5c25f6475f4": {
          "model_module": "@jupyter-widgets/controls",
          "model_name": "FloatProgressModel",
          "model_module_version": "1.5.0",
          "state": {
            "_dom_classes": [],
            "_model_module": "@jupyter-widgets/controls",
            "_model_module_version": "1.5.0",
            "_model_name": "FloatProgressModel",
            "_view_count": null,
            "_view_module": "@jupyter-widgets/controls",
            "_view_module_version": "1.5.0",
            "_view_name": "ProgressView",
            "bar_style": "success",
            "description": "",
            "description_tooltip": null,
            "layout": "IPY_MODEL_05ca34e958c042fbb648d99fba6f3212",
            "max": 52,
            "min": 0,
            "orientation": "horizontal",
            "style": "IPY_MODEL_16d79e321bcc47c3b08b6839e9a52a68",
            "value": 52
          }
        },
        "022c4c5506ca48d19e30864f0e45e1d6": {
          "model_module": "@jupyter-widgets/controls",
          "model_name": "HTMLModel",
          "model_module_version": "1.5.0",
          "state": {
            "_dom_classes": [],
            "_model_module": "@jupyter-widgets/controls",
            "_model_module_version": "1.5.0",
            "_model_name": "HTMLModel",
            "_view_count": null,
            "_view_module": "@jupyter-widgets/controls",
            "_view_module_version": "1.5.0",
            "_view_name": "HTMLView",
            "description": "",
            "description_tooltip": null,
            "layout": "IPY_MODEL_db711f1336ea4cac84b0da88f0f7d0f4",
            "placeholder": "​",
            "style": "IPY_MODEL_0a73bfc8f7794e6cb9401e4998a17469",
            "value": " 52.0/52.0 [00:00&lt;00:00, 2.52kB/s]"
          }
        },
        "7a04fb0ce63a4d7db62bd7c7ec819b45": {
          "model_module": "@jupyter-widgets/base",
          "model_name": "LayoutModel",
          "model_module_version": "1.2.0",
          "state": {
            "_model_module": "@jupyter-widgets/base",
            "_model_module_version": "1.2.0",
            "_model_name": "LayoutModel",
            "_view_count": null,
            "_view_module": "@jupyter-widgets/base",
            "_view_module_version": "1.2.0",
            "_view_name": "LayoutView",
            "align_content": null,
            "align_items": null,
            "align_self": null,
            "border": null,
            "bottom": null,
            "display": null,
            "flex": null,
            "flex_flow": null,
            "grid_area": null,
            "grid_auto_columns": null,
            "grid_auto_flow": null,
            "grid_auto_rows": null,
            "grid_column": null,
            "grid_gap": null,
            "grid_row": null,
            "grid_template_areas": null,
            "grid_template_columns": null,
            "grid_template_rows": null,
            "height": null,
            "justify_content": null,
            "justify_items": null,
            "left": null,
            "margin": null,
            "max_height": null,
            "max_width": null,
            "min_height": null,
            "min_width": null,
            "object_fit": null,
            "object_position": null,
            "order": null,
            "overflow": null,
            "overflow_x": null,
            "overflow_y": null,
            "padding": null,
            "right": null,
            "top": null,
            "visibility": null,
            "width": null
          }
        },
        "8e0ce7ef84ac4ae1ae19351bf016c049": {
          "model_module": "@jupyter-widgets/base",
          "model_name": "LayoutModel",
          "model_module_version": "1.2.0",
          "state": {
            "_model_module": "@jupyter-widgets/base",
            "_model_module_version": "1.2.0",
            "_model_name": "LayoutModel",
            "_view_count": null,
            "_view_module": "@jupyter-widgets/base",
            "_view_module_version": "1.2.0",
            "_view_name": "LayoutView",
            "align_content": null,
            "align_items": null,
            "align_self": null,
            "border": null,
            "bottom": null,
            "display": null,
            "flex": null,
            "flex_flow": null,
            "grid_area": null,
            "grid_auto_columns": null,
            "grid_auto_flow": null,
            "grid_auto_rows": null,
            "grid_column": null,
            "grid_gap": null,
            "grid_row": null,
            "grid_template_areas": null,
            "grid_template_columns": null,
            "grid_template_rows": null,
            "height": null,
            "justify_content": null,
            "justify_items": null,
            "left": null,
            "margin": null,
            "max_height": null,
            "max_width": null,
            "min_height": null,
            "min_width": null,
            "object_fit": null,
            "object_position": null,
            "order": null,
            "overflow": null,
            "overflow_x": null,
            "overflow_y": null,
            "padding": null,
            "right": null,
            "top": null,
            "visibility": null,
            "width": null
          }
        },
        "affabe100f8e453f90480a643f289e83": {
          "model_module": "@jupyter-widgets/controls",
          "model_name": "DescriptionStyleModel",
          "model_module_version": "1.5.0",
          "state": {
            "_model_module": "@jupyter-widgets/controls",
            "_model_module_version": "1.5.0",
            "_model_name": "DescriptionStyleModel",
            "_view_count": null,
            "_view_module": "@jupyter-widgets/base",
            "_view_module_version": "1.2.0",
            "_view_name": "StyleView",
            "description_width": ""
          }
        },
        "05ca34e958c042fbb648d99fba6f3212": {
          "model_module": "@jupyter-widgets/base",
          "model_name": "LayoutModel",
          "model_module_version": "1.2.0",
          "state": {
            "_model_module": "@jupyter-widgets/base",
            "_model_module_version": "1.2.0",
            "_model_name": "LayoutModel",
            "_view_count": null,
            "_view_module": "@jupyter-widgets/base",
            "_view_module_version": "1.2.0",
            "_view_name": "LayoutView",
            "align_content": null,
            "align_items": null,
            "align_self": null,
            "border": null,
            "bottom": null,
            "display": null,
            "flex": null,
            "flex_flow": null,
            "grid_area": null,
            "grid_auto_columns": null,
            "grid_auto_flow": null,
            "grid_auto_rows": null,
            "grid_column": null,
            "grid_gap": null,
            "grid_row": null,
            "grid_template_areas": null,
            "grid_template_columns": null,
            "grid_template_rows": null,
            "height": null,
            "justify_content": null,
            "justify_items": null,
            "left": null,
            "margin": null,
            "max_height": null,
            "max_width": null,
            "min_height": null,
            "min_width": null,
            "object_fit": null,
            "object_position": null,
            "order": null,
            "overflow": null,
            "overflow_x": null,
            "overflow_y": null,
            "padding": null,
            "right": null,
            "top": null,
            "visibility": null,
            "width": null
          }
        },
        "16d79e321bcc47c3b08b6839e9a52a68": {
          "model_module": "@jupyter-widgets/controls",
          "model_name": "ProgressStyleModel",
          "model_module_version": "1.5.0",
          "state": {
            "_model_module": "@jupyter-widgets/controls",
            "_model_module_version": "1.5.0",
            "_model_name": "ProgressStyleModel",
            "_view_count": null,
            "_view_module": "@jupyter-widgets/base",
            "_view_module_version": "1.2.0",
            "_view_name": "StyleView",
            "bar_color": null,
            "description_width": ""
          }
        },
        "db711f1336ea4cac84b0da88f0f7d0f4": {
          "model_module": "@jupyter-widgets/base",
          "model_name": "LayoutModel",
          "model_module_version": "1.2.0",
          "state": {
            "_model_module": "@jupyter-widgets/base",
            "_model_module_version": "1.2.0",
            "_model_name": "LayoutModel",
            "_view_count": null,
            "_view_module": "@jupyter-widgets/base",
            "_view_module_version": "1.2.0",
            "_view_name": "LayoutView",
            "align_content": null,
            "align_items": null,
            "align_self": null,
            "border": null,
            "bottom": null,
            "display": null,
            "flex": null,
            "flex_flow": null,
            "grid_area": null,
            "grid_auto_columns": null,
            "grid_auto_flow": null,
            "grid_auto_rows": null,
            "grid_column": null,
            "grid_gap": null,
            "grid_row": null,
            "grid_template_areas": null,
            "grid_template_columns": null,
            "grid_template_rows": null,
            "height": null,
            "justify_content": null,
            "justify_items": null,
            "left": null,
            "margin": null,
            "max_height": null,
            "max_width": null,
            "min_height": null,
            "min_width": null,
            "object_fit": null,
            "object_position": null,
            "order": null,
            "overflow": null,
            "overflow_x": null,
            "overflow_y": null,
            "padding": null,
            "right": null,
            "top": null,
            "visibility": null,
            "width": null
          }
        },
        "0a73bfc8f7794e6cb9401e4998a17469": {
          "model_module": "@jupyter-widgets/controls",
          "model_name": "DescriptionStyleModel",
          "model_module_version": "1.5.0",
          "state": {
            "_model_module": "@jupyter-widgets/controls",
            "_model_module_version": "1.5.0",
            "_model_name": "DescriptionStyleModel",
            "_view_count": null,
            "_view_module": "@jupyter-widgets/base",
            "_view_module_version": "1.2.0",
            "_view_name": "StyleView",
            "description_width": ""
          }
        },
        "6ce0ac9ea3ec4489a78dfb07e1e80a9f": {
          "model_module": "@jupyter-widgets/controls",
          "model_name": "HBoxModel",
          "model_module_version": "1.5.0",
          "state": {
            "_dom_classes": [],
            "_model_module": "@jupyter-widgets/controls",
            "_model_module_version": "1.5.0",
            "_model_name": "HBoxModel",
            "_view_count": null,
            "_view_module": "@jupyter-widgets/controls",
            "_view_module_version": "1.5.0",
            "_view_name": "HBoxView",
            "box_style": "",
            "children": [
              "IPY_MODEL_7f2b43a115cf4d8ea698cadf7f79a127",
              "IPY_MODEL_c8f2b0221ca64da0a856f758ecdbf20e",
              "IPY_MODEL_041692265a23478086a6d2d1e7deeeb8"
            ],
            "layout": "IPY_MODEL_b2db9b6c4d3e4a47884654beb5a1ea18"
          }
        },
        "7f2b43a115cf4d8ea698cadf7f79a127": {
          "model_module": "@jupyter-widgets/controls",
          "model_name": "HTMLModel",
          "model_module_version": "1.5.0",
          "state": {
            "_dom_classes": [],
            "_model_module": "@jupyter-widgets/controls",
            "_model_module_version": "1.5.0",
            "_model_name": "HTMLModel",
            "_view_count": null,
            "_view_module": "@jupyter-widgets/controls",
            "_view_module_version": "1.5.0",
            "_view_name": "HTMLView",
            "description": "",
            "description_tooltip": null,
            "layout": "IPY_MODEL_63564cb3ea1743a28228eb643757826a",
            "placeholder": "​",
            "style": "IPY_MODEL_e062c7b0fbc549679e1a430577ee57ee",
            "value": "config.json: 100%"
          }
        },
        "c8f2b0221ca64da0a856f758ecdbf20e": {
          "model_module": "@jupyter-widgets/controls",
          "model_name": "FloatProgressModel",
          "model_module_version": "1.5.0",
          "state": {
            "_dom_classes": [],
            "_model_module": "@jupyter-widgets/controls",
            "_model_module_version": "1.5.0",
            "_model_name": "FloatProgressModel",
            "_view_count": null,
            "_view_module": "@jupyter-widgets/controls",
            "_view_module_version": "1.5.0",
            "_view_name": "ProgressView",
            "bar_style": "success",
            "description": "",
            "description_tooltip": null,
            "layout": "IPY_MODEL_30dfa597f49c4ee9b24391c3acf5d95d",
            "max": 474,
            "min": 0,
            "orientation": "horizontal",
            "style": "IPY_MODEL_21ada4e07caf4c4ebc6f48a40e4d0a02",
            "value": 474
          }
        },
        "041692265a23478086a6d2d1e7deeeb8": {
          "model_module": "@jupyter-widgets/controls",
          "model_name": "HTMLModel",
          "model_module_version": "1.5.0",
          "state": {
            "_dom_classes": [],
            "_model_module": "@jupyter-widgets/controls",
            "_model_module_version": "1.5.0",
            "_model_name": "HTMLModel",
            "_view_count": null,
            "_view_module": "@jupyter-widgets/controls",
            "_view_module_version": "1.5.0",
            "_view_name": "HTMLView",
            "description": "",
            "description_tooltip": null,
            "layout": "IPY_MODEL_1726934f171a4cedb40ad046c949fbab",
            "placeholder": "​",
            "style": "IPY_MODEL_af825a36e1ca4ec1abd992058749521d",
            "value": " 474/474 [00:00&lt;00:00, 40.5kB/s]"
          }
        },
        "b2db9b6c4d3e4a47884654beb5a1ea18": {
          "model_module": "@jupyter-widgets/base",
          "model_name": "LayoutModel",
          "model_module_version": "1.2.0",
          "state": {
            "_model_module": "@jupyter-widgets/base",
            "_model_module_version": "1.2.0",
            "_model_name": "LayoutModel",
            "_view_count": null,
            "_view_module": "@jupyter-widgets/base",
            "_view_module_version": "1.2.0",
            "_view_name": "LayoutView",
            "align_content": null,
            "align_items": null,
            "align_self": null,
            "border": null,
            "bottom": null,
            "display": null,
            "flex": null,
            "flex_flow": null,
            "grid_area": null,
            "grid_auto_columns": null,
            "grid_auto_flow": null,
            "grid_auto_rows": null,
            "grid_column": null,
            "grid_gap": null,
            "grid_row": null,
            "grid_template_areas": null,
            "grid_template_columns": null,
            "grid_template_rows": null,
            "height": null,
            "justify_content": null,
            "justify_items": null,
            "left": null,
            "margin": null,
            "max_height": null,
            "max_width": null,
            "min_height": null,
            "min_width": null,
            "object_fit": null,
            "object_position": null,
            "order": null,
            "overflow": null,
            "overflow_x": null,
            "overflow_y": null,
            "padding": null,
            "right": null,
            "top": null,
            "visibility": null,
            "width": null
          }
        },
        "63564cb3ea1743a28228eb643757826a": {
          "model_module": "@jupyter-widgets/base",
          "model_name": "LayoutModel",
          "model_module_version": "1.2.0",
          "state": {
            "_model_module": "@jupyter-widgets/base",
            "_model_module_version": "1.2.0",
            "_model_name": "LayoutModel",
            "_view_count": null,
            "_view_module": "@jupyter-widgets/base",
            "_view_module_version": "1.2.0",
            "_view_name": "LayoutView",
            "align_content": null,
            "align_items": null,
            "align_self": null,
            "border": null,
            "bottom": null,
            "display": null,
            "flex": null,
            "flex_flow": null,
            "grid_area": null,
            "grid_auto_columns": null,
            "grid_auto_flow": null,
            "grid_auto_rows": null,
            "grid_column": null,
            "grid_gap": null,
            "grid_row": null,
            "grid_template_areas": null,
            "grid_template_columns": null,
            "grid_template_rows": null,
            "height": null,
            "justify_content": null,
            "justify_items": null,
            "left": null,
            "margin": null,
            "max_height": null,
            "max_width": null,
            "min_height": null,
            "min_width": null,
            "object_fit": null,
            "object_position": null,
            "order": null,
            "overflow": null,
            "overflow_x": null,
            "overflow_y": null,
            "padding": null,
            "right": null,
            "top": null,
            "visibility": null,
            "width": null
          }
        },
        "e062c7b0fbc549679e1a430577ee57ee": {
          "model_module": "@jupyter-widgets/controls",
          "model_name": "DescriptionStyleModel",
          "model_module_version": "1.5.0",
          "state": {
            "_model_module": "@jupyter-widgets/controls",
            "_model_module_version": "1.5.0",
            "_model_name": "DescriptionStyleModel",
            "_view_count": null,
            "_view_module": "@jupyter-widgets/base",
            "_view_module_version": "1.2.0",
            "_view_name": "StyleView",
            "description_width": ""
          }
        },
        "30dfa597f49c4ee9b24391c3acf5d95d": {
          "model_module": "@jupyter-widgets/base",
          "model_name": "LayoutModel",
          "model_module_version": "1.2.0",
          "state": {
            "_model_module": "@jupyter-widgets/base",
            "_model_module_version": "1.2.0",
            "_model_name": "LayoutModel",
            "_view_count": null,
            "_view_module": "@jupyter-widgets/base",
            "_view_module_version": "1.2.0",
            "_view_name": "LayoutView",
            "align_content": null,
            "align_items": null,
            "align_self": null,
            "border": null,
            "bottom": null,
            "display": null,
            "flex": null,
            "flex_flow": null,
            "grid_area": null,
            "grid_auto_columns": null,
            "grid_auto_flow": null,
            "grid_auto_rows": null,
            "grid_column": null,
            "grid_gap": null,
            "grid_row": null,
            "grid_template_areas": null,
            "grid_template_columns": null,
            "grid_template_rows": null,
            "height": null,
            "justify_content": null,
            "justify_items": null,
            "left": null,
            "margin": null,
            "max_height": null,
            "max_width": null,
            "min_height": null,
            "min_width": null,
            "object_fit": null,
            "object_position": null,
            "order": null,
            "overflow": null,
            "overflow_x": null,
            "overflow_y": null,
            "padding": null,
            "right": null,
            "top": null,
            "visibility": null,
            "width": null
          }
        },
        "21ada4e07caf4c4ebc6f48a40e4d0a02": {
          "model_module": "@jupyter-widgets/controls",
          "model_name": "ProgressStyleModel",
          "model_module_version": "1.5.0",
          "state": {
            "_model_module": "@jupyter-widgets/controls",
            "_model_module_version": "1.5.0",
            "_model_name": "ProgressStyleModel",
            "_view_count": null,
            "_view_module": "@jupyter-widgets/base",
            "_view_module_version": "1.2.0",
            "_view_name": "StyleView",
            "bar_color": null,
            "description_width": ""
          }
        },
        "1726934f171a4cedb40ad046c949fbab": {
          "model_module": "@jupyter-widgets/base",
          "model_name": "LayoutModel",
          "model_module_version": "1.2.0",
          "state": {
            "_model_module": "@jupyter-widgets/base",
            "_model_module_version": "1.2.0",
            "_model_name": "LayoutModel",
            "_view_count": null,
            "_view_module": "@jupyter-widgets/base",
            "_view_module_version": "1.2.0",
            "_view_name": "LayoutView",
            "align_content": null,
            "align_items": null,
            "align_self": null,
            "border": null,
            "bottom": null,
            "display": null,
            "flex": null,
            "flex_flow": null,
            "grid_area": null,
            "grid_auto_columns": null,
            "grid_auto_flow": null,
            "grid_auto_rows": null,
            "grid_column": null,
            "grid_gap": null,
            "grid_row": null,
            "grid_template_areas": null,
            "grid_template_columns": null,
            "grid_template_rows": null,
            "height": null,
            "justify_content": null,
            "justify_items": null,
            "left": null,
            "margin": null,
            "max_height": null,
            "max_width": null,
            "min_height": null,
            "min_width": null,
            "object_fit": null,
            "object_position": null,
            "order": null,
            "overflow": null,
            "overflow_x": null,
            "overflow_y": null,
            "padding": null,
            "right": null,
            "top": null,
            "visibility": null,
            "width": null
          }
        },
        "af825a36e1ca4ec1abd992058749521d": {
          "model_module": "@jupyter-widgets/controls",
          "model_name": "DescriptionStyleModel",
          "model_module_version": "1.5.0",
          "state": {
            "_model_module": "@jupyter-widgets/controls",
            "_model_module_version": "1.5.0",
            "_model_name": "DescriptionStyleModel",
            "_view_count": null,
            "_view_module": "@jupyter-widgets/base",
            "_view_module_version": "1.2.0",
            "_view_name": "StyleView",
            "description_width": ""
          }
        },
        "cc133e5b02ff45e79f6b4539c6c7e258": {
          "model_module": "@jupyter-widgets/controls",
          "model_name": "HBoxModel",
          "model_module_version": "1.5.0",
          "state": {
            "_dom_classes": [],
            "_model_module": "@jupyter-widgets/controls",
            "_model_module_version": "1.5.0",
            "_model_name": "HBoxModel",
            "_view_count": null,
            "_view_module": "@jupyter-widgets/controls",
            "_view_module_version": "1.5.0",
            "_view_name": "HBoxView",
            "box_style": "",
            "children": [
              "IPY_MODEL_b1fa97c7fd1c4fc39bfd3f54b33bc9e7",
              "IPY_MODEL_41fa80d9d0af4af0aa318a603e67195a",
              "IPY_MODEL_f69529a3e510411ba059218dd1f4dfcd"
            ],
            "layout": "IPY_MODEL_cc92a025886e4edd9d5055ac5a2dfce5"
          }
        },
        "b1fa97c7fd1c4fc39bfd3f54b33bc9e7": {
          "model_module": "@jupyter-widgets/controls",
          "model_name": "HTMLModel",
          "model_module_version": "1.5.0",
          "state": {
            "_dom_classes": [],
            "_model_module": "@jupyter-widgets/controls",
            "_model_module_version": "1.5.0",
            "_model_name": "HTMLModel",
            "_view_count": null,
            "_view_module": "@jupyter-widgets/controls",
            "_view_module_version": "1.5.0",
            "_view_name": "HTMLView",
            "description": "",
            "description_tooltip": null,
            "layout": "IPY_MODEL_69daa89919154f6e9f35872338b6ff27",
            "placeholder": "​",
            "style": "IPY_MODEL_131697c7817549f6bd36f4177dd055fc",
            "value": "vocab.json: 100%"
          }
        },
        "41fa80d9d0af4af0aa318a603e67195a": {
          "model_module": "@jupyter-widgets/controls",
          "model_name": "FloatProgressModel",
          "model_module_version": "1.5.0",
          "state": {
            "_dom_classes": [],
            "_model_module": "@jupyter-widgets/controls",
            "_model_module_version": "1.5.0",
            "_model_name": "FloatProgressModel",
            "_view_count": null,
            "_view_module": "@jupyter-widgets/controls",
            "_view_module_version": "1.5.0",
            "_view_name": "ProgressView",
            "bar_style": "success",
            "description": "",
            "description_tooltip": null,
            "layout": "IPY_MODEL_2756edc9602c4cd18a83de10344740d2",
            "max": 898825,
            "min": 0,
            "orientation": "horizontal",
            "style": "IPY_MODEL_a991e31e0c9a400987eecc8e8e38cb6b",
            "value": 898825
          }
        },
        "f69529a3e510411ba059218dd1f4dfcd": {
          "model_module": "@jupyter-widgets/controls",
          "model_name": "HTMLModel",
          "model_module_version": "1.5.0",
          "state": {
            "_dom_classes": [],
            "_model_module": "@jupyter-widgets/controls",
            "_model_module_version": "1.5.0",
            "_model_name": "HTMLModel",
            "_view_count": null,
            "_view_module": "@jupyter-widgets/controls",
            "_view_module_version": "1.5.0",
            "_view_name": "HTMLView",
            "description": "",
            "description_tooltip": null,
            "layout": "IPY_MODEL_edf37449390b4f02a57887978df4b3c8",
            "placeholder": "​",
            "style": "IPY_MODEL_5f3e78827b3e47bbba1ab877b34df887",
            "value": " 899k/899k [00:00&lt;00:00, 3.64MB/s]"
          }
        },
        "cc92a025886e4edd9d5055ac5a2dfce5": {
          "model_module": "@jupyter-widgets/base",
          "model_name": "LayoutModel",
          "model_module_version": "1.2.0",
          "state": {
            "_model_module": "@jupyter-widgets/base",
            "_model_module_version": "1.2.0",
            "_model_name": "LayoutModel",
            "_view_count": null,
            "_view_module": "@jupyter-widgets/base",
            "_view_module_version": "1.2.0",
            "_view_name": "LayoutView",
            "align_content": null,
            "align_items": null,
            "align_self": null,
            "border": null,
            "bottom": null,
            "display": null,
            "flex": null,
            "flex_flow": null,
            "grid_area": null,
            "grid_auto_columns": null,
            "grid_auto_flow": null,
            "grid_auto_rows": null,
            "grid_column": null,
            "grid_gap": null,
            "grid_row": null,
            "grid_template_areas": null,
            "grid_template_columns": null,
            "grid_template_rows": null,
            "height": null,
            "justify_content": null,
            "justify_items": null,
            "left": null,
            "margin": null,
            "max_height": null,
            "max_width": null,
            "min_height": null,
            "min_width": null,
            "object_fit": null,
            "object_position": null,
            "order": null,
            "overflow": null,
            "overflow_x": null,
            "overflow_y": null,
            "padding": null,
            "right": null,
            "top": null,
            "visibility": null,
            "width": null
          }
        },
        "69daa89919154f6e9f35872338b6ff27": {
          "model_module": "@jupyter-widgets/base",
          "model_name": "LayoutModel",
          "model_module_version": "1.2.0",
          "state": {
            "_model_module": "@jupyter-widgets/base",
            "_model_module_version": "1.2.0",
            "_model_name": "LayoutModel",
            "_view_count": null,
            "_view_module": "@jupyter-widgets/base",
            "_view_module_version": "1.2.0",
            "_view_name": "LayoutView",
            "align_content": null,
            "align_items": null,
            "align_self": null,
            "border": null,
            "bottom": null,
            "display": null,
            "flex": null,
            "flex_flow": null,
            "grid_area": null,
            "grid_auto_columns": null,
            "grid_auto_flow": null,
            "grid_auto_rows": null,
            "grid_column": null,
            "grid_gap": null,
            "grid_row": null,
            "grid_template_areas": null,
            "grid_template_columns": null,
            "grid_template_rows": null,
            "height": null,
            "justify_content": null,
            "justify_items": null,
            "left": null,
            "margin": null,
            "max_height": null,
            "max_width": null,
            "min_height": null,
            "min_width": null,
            "object_fit": null,
            "object_position": null,
            "order": null,
            "overflow": null,
            "overflow_x": null,
            "overflow_y": null,
            "padding": null,
            "right": null,
            "top": null,
            "visibility": null,
            "width": null
          }
        },
        "131697c7817549f6bd36f4177dd055fc": {
          "model_module": "@jupyter-widgets/controls",
          "model_name": "DescriptionStyleModel",
          "model_module_version": "1.5.0",
          "state": {
            "_model_module": "@jupyter-widgets/controls",
            "_model_module_version": "1.5.0",
            "_model_name": "DescriptionStyleModel",
            "_view_count": null,
            "_view_module": "@jupyter-widgets/base",
            "_view_module_version": "1.2.0",
            "_view_name": "StyleView",
            "description_width": ""
          }
        },
        "2756edc9602c4cd18a83de10344740d2": {
          "model_module": "@jupyter-widgets/base",
          "model_name": "LayoutModel",
          "model_module_version": "1.2.0",
          "state": {
            "_model_module": "@jupyter-widgets/base",
            "_model_module_version": "1.2.0",
            "_model_name": "LayoutModel",
            "_view_count": null,
            "_view_module": "@jupyter-widgets/base",
            "_view_module_version": "1.2.0",
            "_view_name": "LayoutView",
            "align_content": null,
            "align_items": null,
            "align_self": null,
            "border": null,
            "bottom": null,
            "display": null,
            "flex": null,
            "flex_flow": null,
            "grid_area": null,
            "grid_auto_columns": null,
            "grid_auto_flow": null,
            "grid_auto_rows": null,
            "grid_column": null,
            "grid_gap": null,
            "grid_row": null,
            "grid_template_areas": null,
            "grid_template_columns": null,
            "grid_template_rows": null,
            "height": null,
            "justify_content": null,
            "justify_items": null,
            "left": null,
            "margin": null,
            "max_height": null,
            "max_width": null,
            "min_height": null,
            "min_width": null,
            "object_fit": null,
            "object_position": null,
            "order": null,
            "overflow": null,
            "overflow_x": null,
            "overflow_y": null,
            "padding": null,
            "right": null,
            "top": null,
            "visibility": null,
            "width": null
          }
        },
        "a991e31e0c9a400987eecc8e8e38cb6b": {
          "model_module": "@jupyter-widgets/controls",
          "model_name": "ProgressStyleModel",
          "model_module_version": "1.5.0",
          "state": {
            "_model_module": "@jupyter-widgets/controls",
            "_model_module_version": "1.5.0",
            "_model_name": "ProgressStyleModel",
            "_view_count": null,
            "_view_module": "@jupyter-widgets/base",
            "_view_module_version": "1.2.0",
            "_view_name": "StyleView",
            "bar_color": null,
            "description_width": ""
          }
        },
        "edf37449390b4f02a57887978df4b3c8": {
          "model_module": "@jupyter-widgets/base",
          "model_name": "LayoutModel",
          "model_module_version": "1.2.0",
          "state": {
            "_model_module": "@jupyter-widgets/base",
            "_model_module_version": "1.2.0",
            "_model_name": "LayoutModel",
            "_view_count": null,
            "_view_module": "@jupyter-widgets/base",
            "_view_module_version": "1.2.0",
            "_view_name": "LayoutView",
            "align_content": null,
            "align_items": null,
            "align_self": null,
            "border": null,
            "bottom": null,
            "display": null,
            "flex": null,
            "flex_flow": null,
            "grid_area": null,
            "grid_auto_columns": null,
            "grid_auto_flow": null,
            "grid_auto_rows": null,
            "grid_column": null,
            "grid_gap": null,
            "grid_row": null,
            "grid_template_areas": null,
            "grid_template_columns": null,
            "grid_template_rows": null,
            "height": null,
            "justify_content": null,
            "justify_items": null,
            "left": null,
            "margin": null,
            "max_height": null,
            "max_width": null,
            "min_height": null,
            "min_width": null,
            "object_fit": null,
            "object_position": null,
            "order": null,
            "overflow": null,
            "overflow_x": null,
            "overflow_y": null,
            "padding": null,
            "right": null,
            "top": null,
            "visibility": null,
            "width": null
          }
        },
        "5f3e78827b3e47bbba1ab877b34df887": {
          "model_module": "@jupyter-widgets/controls",
          "model_name": "DescriptionStyleModel",
          "model_module_version": "1.5.0",
          "state": {
            "_model_module": "@jupyter-widgets/controls",
            "_model_module_version": "1.5.0",
            "_model_name": "DescriptionStyleModel",
            "_view_count": null,
            "_view_module": "@jupyter-widgets/base",
            "_view_module_version": "1.2.0",
            "_view_name": "StyleView",
            "description_width": ""
          }
        },
        "87b5e847d4304df79c1408fbae3d9929": {
          "model_module": "@jupyter-widgets/controls",
          "model_name": "HBoxModel",
          "model_module_version": "1.5.0",
          "state": {
            "_dom_classes": [],
            "_model_module": "@jupyter-widgets/controls",
            "_model_module_version": "1.5.0",
            "_model_name": "HBoxModel",
            "_view_count": null,
            "_view_module": "@jupyter-widgets/controls",
            "_view_module_version": "1.5.0",
            "_view_name": "HBoxView",
            "box_style": "",
            "children": [
              "IPY_MODEL_732b724b9f244ae2a9dd453efbb2d9c6",
              "IPY_MODEL_ef62f52028044e899052065116a1d8f4",
              "IPY_MODEL_c5364f98fd6e4895babcf3e0eb4d7236"
            ],
            "layout": "IPY_MODEL_dec64c4b178f4dd9a29387faccf18db3"
          }
        },
        "732b724b9f244ae2a9dd453efbb2d9c6": {
          "model_module": "@jupyter-widgets/controls",
          "model_name": "HTMLModel",
          "model_module_version": "1.5.0",
          "state": {
            "_dom_classes": [],
            "_model_module": "@jupyter-widgets/controls",
            "_model_module_version": "1.5.0",
            "_model_name": "HTMLModel",
            "_view_count": null,
            "_view_module": "@jupyter-widgets/controls",
            "_view_module_version": "1.5.0",
            "_view_name": "HTMLView",
            "description": "",
            "description_tooltip": null,
            "layout": "IPY_MODEL_1af8bdbce1ea4516b9ff0a0102581dbc",
            "placeholder": "​",
            "style": "IPY_MODEL_fc57ae5983ba4ae1ae6a0e9760d3760f",
            "value": "merges.txt: 100%"
          }
        },
        "ef62f52028044e899052065116a1d8f4": {
          "model_module": "@jupyter-widgets/controls",
          "model_name": "FloatProgressModel",
          "model_module_version": "1.5.0",
          "state": {
            "_dom_classes": [],
            "_model_module": "@jupyter-widgets/controls",
            "_model_module_version": "1.5.0",
            "_model_name": "FloatProgressModel",
            "_view_count": null,
            "_view_module": "@jupyter-widgets/controls",
            "_view_module_version": "1.5.0",
            "_view_name": "ProgressView",
            "bar_style": "success",
            "description": "",
            "description_tooltip": null,
            "layout": "IPY_MODEL_94a596fc5c1f44d4be8f643f905f2bc0",
            "max": 456318,
            "min": 0,
            "orientation": "horizontal",
            "style": "IPY_MODEL_7441dafe316945aba373067ec1479ab8",
            "value": 456318
          }
        },
        "c5364f98fd6e4895babcf3e0eb4d7236": {
          "model_module": "@jupyter-widgets/controls",
          "model_name": "HTMLModel",
          "model_module_version": "1.5.0",
          "state": {
            "_dom_classes": [],
            "_model_module": "@jupyter-widgets/controls",
            "_model_module_version": "1.5.0",
            "_model_name": "HTMLModel",
            "_view_count": null,
            "_view_module": "@jupyter-widgets/controls",
            "_view_module_version": "1.5.0",
            "_view_name": "HTMLView",
            "description": "",
            "description_tooltip": null,
            "layout": "IPY_MODEL_ae8a08c64c414c4789a598bf50026fb5",
            "placeholder": "​",
            "style": "IPY_MODEL_796d965316154130aa7ef85b0720fe6d",
            "value": " 456k/456k [00:00&lt;00:00, 27.3MB/s]"
          }
        },
        "dec64c4b178f4dd9a29387faccf18db3": {
          "model_module": "@jupyter-widgets/base",
          "model_name": "LayoutModel",
          "model_module_version": "1.2.0",
          "state": {
            "_model_module": "@jupyter-widgets/base",
            "_model_module_version": "1.2.0",
            "_model_name": "LayoutModel",
            "_view_count": null,
            "_view_module": "@jupyter-widgets/base",
            "_view_module_version": "1.2.0",
            "_view_name": "LayoutView",
            "align_content": null,
            "align_items": null,
            "align_self": null,
            "border": null,
            "bottom": null,
            "display": null,
            "flex": null,
            "flex_flow": null,
            "grid_area": null,
            "grid_auto_columns": null,
            "grid_auto_flow": null,
            "grid_auto_rows": null,
            "grid_column": null,
            "grid_gap": null,
            "grid_row": null,
            "grid_template_areas": null,
            "grid_template_columns": null,
            "grid_template_rows": null,
            "height": null,
            "justify_content": null,
            "justify_items": null,
            "left": null,
            "margin": null,
            "max_height": null,
            "max_width": null,
            "min_height": null,
            "min_width": null,
            "object_fit": null,
            "object_position": null,
            "order": null,
            "overflow": null,
            "overflow_x": null,
            "overflow_y": null,
            "padding": null,
            "right": null,
            "top": null,
            "visibility": null,
            "width": null
          }
        },
        "1af8bdbce1ea4516b9ff0a0102581dbc": {
          "model_module": "@jupyter-widgets/base",
          "model_name": "LayoutModel",
          "model_module_version": "1.2.0",
          "state": {
            "_model_module": "@jupyter-widgets/base",
            "_model_module_version": "1.2.0",
            "_model_name": "LayoutModel",
            "_view_count": null,
            "_view_module": "@jupyter-widgets/base",
            "_view_module_version": "1.2.0",
            "_view_name": "LayoutView",
            "align_content": null,
            "align_items": null,
            "align_self": null,
            "border": null,
            "bottom": null,
            "display": null,
            "flex": null,
            "flex_flow": null,
            "grid_area": null,
            "grid_auto_columns": null,
            "grid_auto_flow": null,
            "grid_auto_rows": null,
            "grid_column": null,
            "grid_gap": null,
            "grid_row": null,
            "grid_template_areas": null,
            "grid_template_columns": null,
            "grid_template_rows": null,
            "height": null,
            "justify_content": null,
            "justify_items": null,
            "left": null,
            "margin": null,
            "max_height": null,
            "max_width": null,
            "min_height": null,
            "min_width": null,
            "object_fit": null,
            "object_position": null,
            "order": null,
            "overflow": null,
            "overflow_x": null,
            "overflow_y": null,
            "padding": null,
            "right": null,
            "top": null,
            "visibility": null,
            "width": null
          }
        },
        "fc57ae5983ba4ae1ae6a0e9760d3760f": {
          "model_module": "@jupyter-widgets/controls",
          "model_name": "DescriptionStyleModel",
          "model_module_version": "1.5.0",
          "state": {
            "_model_module": "@jupyter-widgets/controls",
            "_model_module_version": "1.5.0",
            "_model_name": "DescriptionStyleModel",
            "_view_count": null,
            "_view_module": "@jupyter-widgets/base",
            "_view_module_version": "1.2.0",
            "_view_name": "StyleView",
            "description_width": ""
          }
        },
        "94a596fc5c1f44d4be8f643f905f2bc0": {
          "model_module": "@jupyter-widgets/base",
          "model_name": "LayoutModel",
          "model_module_version": "1.2.0",
          "state": {
            "_model_module": "@jupyter-widgets/base",
            "_model_module_version": "1.2.0",
            "_model_name": "LayoutModel",
            "_view_count": null,
            "_view_module": "@jupyter-widgets/base",
            "_view_module_version": "1.2.0",
            "_view_name": "LayoutView",
            "align_content": null,
            "align_items": null,
            "align_self": null,
            "border": null,
            "bottom": null,
            "display": null,
            "flex": null,
            "flex_flow": null,
            "grid_area": null,
            "grid_auto_columns": null,
            "grid_auto_flow": null,
            "grid_auto_rows": null,
            "grid_column": null,
            "grid_gap": null,
            "grid_row": null,
            "grid_template_areas": null,
            "grid_template_columns": null,
            "grid_template_rows": null,
            "height": null,
            "justify_content": null,
            "justify_items": null,
            "left": null,
            "margin": null,
            "max_height": null,
            "max_width": null,
            "min_height": null,
            "min_width": null,
            "object_fit": null,
            "object_position": null,
            "order": null,
            "overflow": null,
            "overflow_x": null,
            "overflow_y": null,
            "padding": null,
            "right": null,
            "top": null,
            "visibility": null,
            "width": null
          }
        },
        "7441dafe316945aba373067ec1479ab8": {
          "model_module": "@jupyter-widgets/controls",
          "model_name": "ProgressStyleModel",
          "model_module_version": "1.5.0",
          "state": {
            "_model_module": "@jupyter-widgets/controls",
            "_model_module_version": "1.5.0",
            "_model_name": "ProgressStyleModel",
            "_view_count": null,
            "_view_module": "@jupyter-widgets/base",
            "_view_module_version": "1.2.0",
            "_view_name": "StyleView",
            "bar_color": null,
            "description_width": ""
          }
        },
        "ae8a08c64c414c4789a598bf50026fb5": {
          "model_module": "@jupyter-widgets/base",
          "model_name": "LayoutModel",
          "model_module_version": "1.2.0",
          "state": {
            "_model_module": "@jupyter-widgets/base",
            "_model_module_version": "1.2.0",
            "_model_name": "LayoutModel",
            "_view_count": null,
            "_view_module": "@jupyter-widgets/base",
            "_view_module_version": "1.2.0",
            "_view_name": "LayoutView",
            "align_content": null,
            "align_items": null,
            "align_self": null,
            "border": null,
            "bottom": null,
            "display": null,
            "flex": null,
            "flex_flow": null,
            "grid_area": null,
            "grid_auto_columns": null,
            "grid_auto_flow": null,
            "grid_auto_rows": null,
            "grid_column": null,
            "grid_gap": null,
            "grid_row": null,
            "grid_template_areas": null,
            "grid_template_columns": null,
            "grid_template_rows": null,
            "height": null,
            "justify_content": null,
            "justify_items": null,
            "left": null,
            "margin": null,
            "max_height": null,
            "max_width": null,
            "min_height": null,
            "min_width": null,
            "object_fit": null,
            "object_position": null,
            "order": null,
            "overflow": null,
            "overflow_x": null,
            "overflow_y": null,
            "padding": null,
            "right": null,
            "top": null,
            "visibility": null,
            "width": null
          }
        },
        "796d965316154130aa7ef85b0720fe6d": {
          "model_module": "@jupyter-widgets/controls",
          "model_name": "DescriptionStyleModel",
          "model_module_version": "1.5.0",
          "state": {
            "_model_module": "@jupyter-widgets/controls",
            "_model_module_version": "1.5.0",
            "_model_name": "DescriptionStyleModel",
            "_view_count": null,
            "_view_module": "@jupyter-widgets/base",
            "_view_module_version": "1.2.0",
            "_view_name": "StyleView",
            "description_width": ""
          }
        }
      }
    }
  },
  "nbformat": 4,
  "nbformat_minor": 0
}