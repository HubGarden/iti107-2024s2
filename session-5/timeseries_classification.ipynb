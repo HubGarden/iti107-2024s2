{
 "cells": [
  {
   "cell_type": "markdown",
   "metadata": {
    "id": "G_7gX2-42Aij"
   },
   "source": [
    "# Timeseries classification using LSTM"
   ]
  },
  {
   "cell_type": "markdown",
   "metadata": {
    "id": "bgESH_cN2Aiq"
   },
   "source": [
    "## Introduction\n",
    "\n",
    "In this lab exercise, we will apply a simple LSTM to do timeseries classification. \n",
    "\n",
    "*The lab is adapted from the example codes on keras.io*"
   ]
  },
  {
   "cell_type": "markdown",
   "metadata": {
    "id": "0VM-tytE2Air"
   },
   "source": [
    "## Setup"
   ]
  },
  {
   "cell_type": "code",
   "execution_count": 1,
   "metadata": {
    "id": "lQbJgKCA2Ais",
    "tags": []
   },
   "outputs": [
    {
     "name": "stderr",
     "output_type": "stream",
     "text": [
      "2023-12-02 10:35:45.562391: I tensorflow/core/platform/cpu_feature_guard.cc:182] This TensorFlow binary is optimized to use available CPU instructions in performance-critical operations.\n",
      "To enable the following instructions: AVX2 FMA, in other operations, rebuild TensorFlow with the appropriate compiler flags.\n",
      "2023-12-02 10:35:47.603878: W tensorflow/compiler/tf2tensorrt/utils/py_utils.cc:38] TF-TRT Warning: Could not find TensorRT\n"
     ]
    }
   ],
   "source": [
    "from tensorflow import keras\n",
    "import numpy as np\n",
    "import matplotlib.pyplot as plt\n",
    "import pandas as pd\n",
    "import os"
   ]
  },
  {
   "cell_type": "markdown",
   "metadata": {
    "id": "mKij8ezY2Aiv"
   },
   "source": [
    "## Load the data: the FordA dataset\n",
    "\n",
    "### Dataset description\n",
    "\n",
    "The dataset we are using here is called FordA.\n",
    "The data comes from the UCR archive.\n",
    "The dataset contains 3601 training instances and another 1320 testing instances.\n",
    "Each timeseries corresponds to a measurement of engine noise captured by a motor sensor.\n",
    "For this task, the goal is to automatically detect the presence of a specific issue with\n",
    "the engine. The problem is a balanced binary classification task. The full description of\n",
    "this dataset can be found [here](http://www.j-wichard.de/publications/FordPaper.pdf).\n",
    "\n",
    "### Read the data\n",
    "\n",
    "We will use the `FordA_TRAIN` file for training and the\n",
    "`FordA_TEST` file for testing. The simplicity of this dataset\n",
    "allows us to demonstrate effectively how to use LSTM for timeseries classification.\n",
    "In this file, the first column corresponds to the label."
   ]
  },
  {
   "cell_type": "code",
   "execution_count": 2,
   "metadata": {
    "tags": []
   },
   "outputs": [
    {
     "data": {
      "text/html": [
       "<div>\n",
       "<style scoped>\n",
       "    .dataframe tbody tr th:only-of-type {\n",
       "        vertical-align: middle;\n",
       "    }\n",
       "\n",
       "    .dataframe tbody tr th {\n",
       "        vertical-align: top;\n",
       "    }\n",
       "\n",
       "    .dataframe thead th {\n",
       "        text-align: right;\n",
       "    }\n",
       "</style>\n",
       "<table border=\"1\" class=\"dataframe\">\n",
       "  <thead>\n",
       "    <tr style=\"text-align: right;\">\n",
       "      <th></th>\n",
       "      <th>0</th>\n",
       "      <th>1</th>\n",
       "      <th>2</th>\n",
       "      <th>3</th>\n",
       "      <th>4</th>\n",
       "      <th>5</th>\n",
       "      <th>6</th>\n",
       "      <th>7</th>\n",
       "      <th>8</th>\n",
       "      <th>9</th>\n",
       "      <th>...</th>\n",
       "      <th>491</th>\n",
       "      <th>492</th>\n",
       "      <th>493</th>\n",
       "      <th>494</th>\n",
       "      <th>495</th>\n",
       "      <th>496</th>\n",
       "      <th>497</th>\n",
       "      <th>498</th>\n",
       "      <th>499</th>\n",
       "      <th>500</th>\n",
       "    </tr>\n",
       "  </thead>\n",
       "  <tbody>\n",
       "    <tr>\n",
       "      <th>0</th>\n",
       "      <td>-1.0</td>\n",
       "      <td>-0.797172</td>\n",
       "      <td>-0.664392</td>\n",
       "      <td>-0.373015</td>\n",
       "      <td>0.040815</td>\n",
       "      <td>0.526936</td>\n",
       "      <td>0.984288</td>\n",
       "      <td>1.353120</td>\n",
       "      <td>1.578108</td>\n",
       "      <td>1.659251</td>\n",
       "      <td>...</td>\n",
       "      <td>1.120756</td>\n",
       "      <td>0.722417</td>\n",
       "      <td>0.362068</td>\n",
       "      <td>0.092083</td>\n",
       "      <td>-0.081268</td>\n",
       "      <td>-0.212573</td>\n",
       "      <td>-0.391456</td>\n",
       "      <td>-0.664392</td>\n",
       "      <td>-1.073796</td>\n",
       "      <td>-1.564343</td>\n",
       "    </tr>\n",
       "    <tr>\n",
       "      <th>1</th>\n",
       "      <td>1.0</td>\n",
       "      <td>0.804855</td>\n",
       "      <td>0.634629</td>\n",
       "      <td>0.373474</td>\n",
       "      <td>0.038343</td>\n",
       "      <td>-0.340988</td>\n",
       "      <td>-0.740860</td>\n",
       "      <td>-1.109667</td>\n",
       "      <td>-1.395357</td>\n",
       "      <td>-1.570192</td>\n",
       "      <td>...</td>\n",
       "      <td>0.386403</td>\n",
       "      <td>0.049213</td>\n",
       "      <td>-0.258138</td>\n",
       "      <td>-0.510583</td>\n",
       "      <td>-0.683647</td>\n",
       "      <td>-0.773817</td>\n",
       "      <td>-0.785255</td>\n",
       "      <td>-0.714885</td>\n",
       "      <td>-0.560443</td>\n",
       "      <td>-0.319086</td>\n",
       "    </tr>\n",
       "    <tr>\n",
       "      <th>2</th>\n",
       "      <td>-1.0</td>\n",
       "      <td>0.727985</td>\n",
       "      <td>0.111284</td>\n",
       "      <td>-0.499124</td>\n",
       "      <td>-1.068629</td>\n",
       "      <td>-1.578351</td>\n",
       "      <td>-1.990534</td>\n",
       "      <td>-2.302031</td>\n",
       "      <td>-2.503403</td>\n",
       "      <td>-2.585211</td>\n",
       "      <td>...</td>\n",
       "      <td>0.394463</td>\n",
       "      <td>0.463685</td>\n",
       "      <td>0.507735</td>\n",
       "      <td>0.517174</td>\n",
       "      <td>0.504588</td>\n",
       "      <td>0.476270</td>\n",
       "      <td>0.438513</td>\n",
       "      <td>0.394463</td>\n",
       "      <td>0.339400</td>\n",
       "      <td>0.255391</td>\n",
       "    </tr>\n",
       "    <tr>\n",
       "      <th>3</th>\n",
       "      <td>-1.0</td>\n",
       "      <td>-0.234439</td>\n",
       "      <td>-0.502157</td>\n",
       "      <td>-0.732488</td>\n",
       "      <td>-0.946128</td>\n",
       "      <td>-1.139739</td>\n",
       "      <td>-1.323336</td>\n",
       "      <td>-1.490243</td>\n",
       "      <td>-1.607077</td>\n",
       "      <td>-1.620430</td>\n",
       "      <td>...</td>\n",
       "      <td>-0.952804</td>\n",
       "      <td>-0.929437</td>\n",
       "      <td>-0.922761</td>\n",
       "      <td>-0.929437</td>\n",
       "      <td>-0.909409</td>\n",
       "      <td>-0.835970</td>\n",
       "      <td>-0.695768</td>\n",
       "      <td>-0.478790</td>\n",
       "      <td>-0.188707</td>\n",
       "      <td>0.119736</td>\n",
       "    </tr>\n",
       "    <tr>\n",
       "      <th>4</th>\n",
       "      <td>-1.0</td>\n",
       "      <td>-0.171328</td>\n",
       "      <td>-0.062285</td>\n",
       "      <td>0.235829</td>\n",
       "      <td>0.710396</td>\n",
       "      <td>1.239969</td>\n",
       "      <td>1.649823</td>\n",
       "      <td>1.876321</td>\n",
       "      <td>1.865535</td>\n",
       "      <td>1.703751</td>\n",
       "      <td>...</td>\n",
       "      <td>0.776188</td>\n",
       "      <td>0.725496</td>\n",
       "      <td>0.697453</td>\n",
       "      <td>0.731967</td>\n",
       "      <td>0.808545</td>\n",
       "      <td>0.839823</td>\n",
       "      <td>0.733046</td>\n",
       "      <td>0.437520</td>\n",
       "      <td>-0.026585</td>\n",
       "      <td>-0.602213</td>\n",
       "    </tr>\n",
       "    <tr>\n",
       "      <th>...</th>\n",
       "      <td>...</td>\n",
       "      <td>...</td>\n",
       "      <td>...</td>\n",
       "      <td>...</td>\n",
       "      <td>...</td>\n",
       "      <td>...</td>\n",
       "      <td>...</td>\n",
       "      <td>...</td>\n",
       "      <td>...</td>\n",
       "      <td>...</td>\n",
       "      <td>...</td>\n",
       "      <td>...</td>\n",
       "      <td>...</td>\n",
       "      <td>...</td>\n",
       "      <td>...</td>\n",
       "      <td>...</td>\n",
       "      <td>...</td>\n",
       "      <td>...</td>\n",
       "      <td>...</td>\n",
       "      <td>...</td>\n",
       "      <td>...</td>\n",
       "    </tr>\n",
       "    <tr>\n",
       "      <th>3596</th>\n",
       "      <td>-1.0</td>\n",
       "      <td>0.196022</td>\n",
       "      <td>-0.070102</td>\n",
       "      <td>-0.336226</td>\n",
       "      <td>-0.516799</td>\n",
       "      <td>-0.555282</td>\n",
       "      <td>-0.442793</td>\n",
       "      <td>-0.221369</td>\n",
       "      <td>0.025217</td>\n",
       "      <td>0.233320</td>\n",
       "      <td>...</td>\n",
       "      <td>1.715205</td>\n",
       "      <td>1.129082</td>\n",
       "      <td>0.528158</td>\n",
       "      <td>-0.039020</td>\n",
       "      <td>-0.573043</td>\n",
       "      <td>-1.061479</td>\n",
       "      <td>-1.514392</td>\n",
       "      <td>-1.934743</td>\n",
       "      <td>-2.316612</td>\n",
       "      <td>-2.603753</td>\n",
       "    </tr>\n",
       "    <tr>\n",
       "      <th>3597</th>\n",
       "      <td>1.0</td>\n",
       "      <td>0.041994</td>\n",
       "      <td>0.422255</td>\n",
       "      <td>0.740529</td>\n",
       "      <td>0.975426</td>\n",
       "      <td>1.109891</td>\n",
       "      <td>1.137270</td>\n",
       "      <td>1.058349</td>\n",
       "      <td>0.894955</td>\n",
       "      <td>0.671224</td>\n",
       "      <td>...</td>\n",
       "      <td>-0.463329</td>\n",
       "      <td>-0.392667</td>\n",
       "      <td>-0.333749</td>\n",
       "      <td>-0.316543</td>\n",
       "      <td>-0.340299</td>\n",
       "      <td>-0.392876</td>\n",
       "      <td>-0.450805</td>\n",
       "      <td>-0.482609</td>\n",
       "      <td>-0.467769</td>\n",
       "      <td>-0.393755</td>\n",
       "    </tr>\n",
       "    <tr>\n",
       "      <th>3598</th>\n",
       "      <td>-1.0</td>\n",
       "      <td>-0.570054</td>\n",
       "      <td>-0.333165</td>\n",
       "      <td>-0.293519</td>\n",
       "      <td>-0.425344</td>\n",
       "      <td>-0.590869</td>\n",
       "      <td>-0.615648</td>\n",
       "      <td>-0.348033</td>\n",
       "      <td>0.275412</td>\n",
       "      <td>1.153586</td>\n",
       "      <td>...</td>\n",
       "      <td>0.902821</td>\n",
       "      <td>0.579700</td>\n",
       "      <td>0.157463</td>\n",
       "      <td>-0.353980</td>\n",
       "      <td>-0.885246</td>\n",
       "      <td>-1.314421</td>\n",
       "      <td>-1.512655</td>\n",
       "      <td>-1.393714</td>\n",
       "      <td>-0.942733</td>\n",
       "      <td>-0.270722</td>\n",
       "    </tr>\n",
       "    <tr>\n",
       "      <th>3599</th>\n",
       "      <td>1.0</td>\n",
       "      <td>2.006732</td>\n",
       "      <td>2.079150</td>\n",
       "      <td>2.022036</td>\n",
       "      <td>1.867560</td>\n",
       "      <td>1.648112</td>\n",
       "      <td>1.379446</td>\n",
       "      <td>1.093717</td>\n",
       "      <td>0.784057</td>\n",
       "      <td>0.434150</td>\n",
       "      <td>...</td>\n",
       "      <td>1.268671</td>\n",
       "      <td>1.148971</td>\n",
       "      <td>0.928088</td>\n",
       "      <td>0.634953</td>\n",
       "      <td>0.311682</td>\n",
       "      <td>-0.007376</td>\n",
       "      <td>-0.270543</td>\n",
       "      <td>-0.432145</td>\n",
       "      <td>-0.441231</td>\n",
       "      <td>-0.280709</td>\n",
       "    </tr>\n",
       "    <tr>\n",
       "      <th>3600</th>\n",
       "      <td>-1.0</td>\n",
       "      <td>-0.125241</td>\n",
       "      <td>-0.325363</td>\n",
       "      <td>-0.488237</td>\n",
       "      <td>-0.599045</td>\n",
       "      <td>-0.651111</td>\n",
       "      <td>-0.647106</td>\n",
       "      <td>-0.595040</td>\n",
       "      <td>-0.502922</td>\n",
       "      <td>-0.388109</td>\n",
       "      <td>...</td>\n",
       "      <td>0.005352</td>\n",
       "      <td>0.157920</td>\n",
       "      <td>0.288753</td>\n",
       "      <td>0.384876</td>\n",
       "      <td>0.451628</td>\n",
       "      <td>0.497019</td>\n",
       "      <td>0.527725</td>\n",
       "      <td>0.555761</td>\n",
       "      <td>0.574451</td>\n",
       "      <td>0.573116</td>\n",
       "    </tr>\n",
       "  </tbody>\n",
       "</table>\n",
       "<p>3601 rows × 501 columns</p>\n",
       "</div>"
      ],
      "text/plain": [
       "      0         1         2         3         4         5         6    \\\n",
       "0    -1.0 -0.797172 -0.664392 -0.373015  0.040815  0.526936  0.984288   \n",
       "1     1.0  0.804855  0.634629  0.373474  0.038343 -0.340988 -0.740860   \n",
       "2    -1.0  0.727985  0.111284 -0.499124 -1.068629 -1.578351 -1.990534   \n",
       "3    -1.0 -0.234439 -0.502157 -0.732488 -0.946128 -1.139739 -1.323336   \n",
       "4    -1.0 -0.171328 -0.062285  0.235829  0.710396  1.239969  1.649823   \n",
       "...   ...       ...       ...       ...       ...       ...       ...   \n",
       "3596 -1.0  0.196022 -0.070102 -0.336226 -0.516799 -0.555282 -0.442793   \n",
       "3597  1.0  0.041994  0.422255  0.740529  0.975426  1.109891  1.137270   \n",
       "3598 -1.0 -0.570054 -0.333165 -0.293519 -0.425344 -0.590869 -0.615648   \n",
       "3599  1.0  2.006732  2.079150  2.022036  1.867560  1.648112  1.379446   \n",
       "3600 -1.0 -0.125241 -0.325363 -0.488237 -0.599045 -0.651111 -0.647106   \n",
       "\n",
       "           7         8         9    ...       491       492       493  \\\n",
       "0     1.353120  1.578108  1.659251  ...  1.120756  0.722417  0.362068   \n",
       "1    -1.109667 -1.395357 -1.570192  ...  0.386403  0.049213 -0.258138   \n",
       "2    -2.302031 -2.503403 -2.585211  ...  0.394463  0.463685  0.507735   \n",
       "3    -1.490243 -1.607077 -1.620430  ... -0.952804 -0.929437 -0.922761   \n",
       "4     1.876321  1.865535  1.703751  ...  0.776188  0.725496  0.697453   \n",
       "...        ...       ...       ...  ...       ...       ...       ...   \n",
       "3596 -0.221369  0.025217  0.233320  ...  1.715205  1.129082  0.528158   \n",
       "3597  1.058349  0.894955  0.671224  ... -0.463329 -0.392667 -0.333749   \n",
       "3598 -0.348033  0.275412  1.153586  ...  0.902821  0.579700  0.157463   \n",
       "3599  1.093717  0.784057  0.434150  ...  1.268671  1.148971  0.928088   \n",
       "3600 -0.595040 -0.502922 -0.388109  ...  0.005352  0.157920  0.288753   \n",
       "\n",
       "           494       495       496       497       498       499       500  \n",
       "0     0.092083 -0.081268 -0.212573 -0.391456 -0.664392 -1.073796 -1.564343  \n",
       "1    -0.510583 -0.683647 -0.773817 -0.785255 -0.714885 -0.560443 -0.319086  \n",
       "2     0.517174  0.504588  0.476270  0.438513  0.394463  0.339400  0.255391  \n",
       "3    -0.929437 -0.909409 -0.835970 -0.695768 -0.478790 -0.188707  0.119736  \n",
       "4     0.731967  0.808545  0.839823  0.733046  0.437520 -0.026585 -0.602213  \n",
       "...        ...       ...       ...       ...       ...       ...       ...  \n",
       "3596 -0.039020 -0.573043 -1.061479 -1.514392 -1.934743 -2.316612 -2.603753  \n",
       "3597 -0.316543 -0.340299 -0.392876 -0.450805 -0.482609 -0.467769 -0.393755  \n",
       "3598 -0.353980 -0.885246 -1.314421 -1.512655 -1.393714 -0.942733 -0.270722  \n",
       "3599  0.634953  0.311682 -0.007376 -0.270543 -0.432145 -0.441231 -0.280709  \n",
       "3600  0.384876  0.451628  0.497019  0.527725  0.555761  0.574451  0.573116  \n",
       "\n",
       "[3601 rows x 501 columns]"
      ]
     },
     "execution_count": 2,
     "metadata": {},
     "output_type": "execute_result"
    }
   ],
   "source": [
    "train_data_url = 'https://raw.githubusercontent.com/nyp-sit/iti107/main/session-5/FordA_TRAIN.txt' \n",
    "train_df = pd.read_csv(train_data_url, delim_whitespace=True, header=None)\n",
    "train_df"
   ]
  },
  {
   "cell_type": "code",
   "execution_count": 3,
   "metadata": {
    "colab": {
     "base_uri": "https://localhost:8080/"
    },
    "id": "6IuGfKsD2kdL",
    "outputId": "05aef1ac-4219-4169-d571-6e067ab6f001",
    "tags": []
   },
   "outputs": [],
   "source": [
    "test_data_url = 'https://raw.githubusercontent.com/nyp-sit/iti107/main/session-5/FordA_TEST.txt'\n",
    "test_df = pd.read_csv(test_data_url, delim_whitespace=True, header=None)"
   ]
  },
  {
   "cell_type": "code",
   "execution_count": 4,
   "metadata": {
    "id": "j_f-0D_V2Aiw",
    "tags": []
   },
   "outputs": [],
   "source": [
    "x_train, y_train = train_df.loc[:,1:].values, train_df.loc[:,0].values\n",
    "x_test, y_test = test_df.loc[:,1:].values, test_df.loc[:,0].values\n",
    "# x_test, y_test = readucr(root_url + \"FordA_TEST.tsv\")"
   ]
  },
  {
   "cell_type": "code",
   "execution_count": 5,
   "metadata": {
    "colab": {
     "base_uri": "https://localhost:8080/"
    },
    "id": "2CXDhRKf2UJ6",
    "outputId": "01313764-5327-4ebe-b91f-0e76b4df2ead",
    "tags": []
   },
   "outputs": [
    {
     "name": "stdout",
     "output_type": "stream",
     "text": [
      "(3601, 500)\n",
      "(3601,)\n",
      "(1320, 500)\n",
      "(1320,)\n"
     ]
    }
   ],
   "source": [
    "print(x_train.shape)\n",
    "print(y_train.shape)\n",
    "print(x_test.shape)\n",
    "print(y_test.shape)"
   ]
  },
  {
   "cell_type": "markdown",
   "metadata": {
    "id": "o7IQMTNm2Aix"
   },
   "source": [
    "## Visualize the data\n",
    "\n",
    "Here we visualize one timeseries example for each class in the dataset."
   ]
  },
  {
   "cell_type": "code",
   "execution_count": 6,
   "metadata": {
    "colab": {
     "base_uri": "https://localhost:8080/",
     "height": 430
    },
    "id": "EXLq6Tsx2Aix",
    "outputId": "828aaf31-77b4-4932-988b-0193f760ea3b",
    "tags": []
   },
   "outputs": [
    {
     "data": {
      "image/png": "[encoded data removed]",
      "text/plain": [
       "<Figure size 640x480 with 1 Axes>"
      ]
     },
     "metadata": {},
     "output_type": "display_data"
    }
   ],
   "source": [
    "classes = np.unique(np.concatenate((y_train, y_test), axis=0))\n",
    "\n",
    "plt.figure()\n",
    "for c in classes:\n",
    "    c_x_train = x_train[y_train == c]\n",
    "    plt.plot(c_x_train[0], label=\"class \" + str(c))\n",
    "plt.legend(loc=\"best\")\n",
    "plt.show()\n",
    "plt.close()"
   ]
  },
  {
   "cell_type": "markdown",
   "metadata": {
    "id": "qPfcTJ0E2Aiy"
   },
   "source": [
    "## Standardize the data\n",
    "\n",
    "Our timeseries are already in a single length (500). However, their values are\n",
    "usually in various ranges. This is not ideal for a neural network;\n",
    "in general we should seek to make the input values normalized.\n",
    "For this specific dataset, the data is already z-normalized: each timeseries sample\n",
    "has a mean equal to zero and a standard deviation equal to one. This type of\n",
    "normalization is very common for timeseries classification problems, see\n",
    "[Bagnall et al. (2016)](https://link.springer.com/article/10.1007/s10618-016-0483-9).\n",
    "\n",
    "Note that the timeseries data used here are univariate, meaning we only have one channel\n",
    "per timeseries example.\n",
    "We will therefore transform the timeseries into a multivariate one with one channel\n",
    "using a simple reshaping via numpy.\n",
    "This will allow us to construct a model that is easily applicable to multivariate time\n",
    "series."
   ]
  },
  {
   "cell_type": "code",
   "execution_count": 7,
   "metadata": {
    "id": "8Ebufr_82Aiz",
    "tags": []
   },
   "outputs": [],
   "source": [
    "x_train = np.expand_dims(x_train, axis=2) \n",
    "x_test = np.expand_dims(x_test, axis=2) "
   ]
  },
  {
   "cell_type": "code",
   "execution_count": 8,
   "metadata": {
    "colab": {
     "base_uri": "https://localhost:8080/"
    },
    "id": "2v4lzADf4jqw",
    "outputId": "8cbdfb5a-6cdc-404d-a316-0d571ed82a49",
    "tags": []
   },
   "outputs": [
    {
     "data": {
      "text/plain": [
       "(3601, 500, 1)"
      ]
     },
     "execution_count": 8,
     "metadata": {},
     "output_type": "execute_result"
    }
   ],
   "source": [
    "x_train.shape"
   ]
  },
  {
   "cell_type": "markdown",
   "metadata": {
    "id": "M5W-H8xP2Ai0"
   },
   "source": [
    "Finally, in order to use `sparse_categorical_crossentropy`, we will have to count\n",
    "the number of classes beforehand."
   ]
  },
  {
   "cell_type": "code",
   "execution_count": 9,
   "metadata": {
    "id": "lhcf8Xs_2Ai0",
    "tags": []
   },
   "outputs": [],
   "source": [
    "num_classes = len(np.unique(y_train))"
   ]
  },
  {
   "cell_type": "markdown",
   "metadata": {
    "id": "TTKf9rB12Ai0"
   },
   "source": [
    "Now we shuffle the training set because we will be using the `validation_split` option\n",
    "later when training."
   ]
  },
  {
   "cell_type": "code",
   "execution_count": 10,
   "metadata": {
    "id": "CBNsku_Y2Ai1",
    "tags": []
   },
   "outputs": [],
   "source": [
    "idx = np.random.permutation(len(x_train))\n",
    "x_train = x_train[idx]\n",
    "y_train = y_train[idx]"
   ]
  },
  {
   "cell_type": "markdown",
   "metadata": {
    "id": "QOQxD5sG2Ai1"
   },
   "source": [
    "Standardize the labels to positive integers.\n",
    "The expected labels will then be 0 and 1."
   ]
  },
  {
   "cell_type": "code",
   "execution_count": 11,
   "metadata": {
    "id": "MytAaFOL2Ai1",
    "tags": []
   },
   "outputs": [],
   "source": [
    "y_train[y_train == -1] = 0\n",
    "y_test[y_test == -1] = 0"
   ]
  },
  {
   "cell_type": "markdown",
   "metadata": {
    "id": "5ARwUSP52Ai2"
   },
   "source": [
    "## Build a model\n",
    "\n",
    "We use a single LSTM layer to capture the temporal information and return the hidden at each timestep.  We then feed these timesteps into the dense layers for classification. \n",
    "\n",
    "Note that we set the `return_sequences=True` to return the hidden states at every time-step. The output shape is thus of 3D shape (batch, time-steps, feature). To apply Dense layer to every time step, we use keras TimeDistributed wrapper.  To connect to final Dense layer, we need to Flatten this to a 2D shape (batch, features). "
   ]
  },
  {
   "cell_type": "code",
   "execution_count": 12,
   "metadata": {
    "colab": {
     "base_uri": "https://localhost:8080/",
     "height": 1000
    },
    "id": "PxFvd6Ng2Ai2",
    "outputId": "13813311-425d-463e-9141-8598fcdfa5db",
    "tags": []
   },
   "outputs": [
    {
     "name": "stderr",
     "output_type": "stream",
     "text": [
      "2023-12-02 10:35:57.221807: I tensorflow/compiler/xla/stream_executor/cuda/cuda_gpu_executor.cc:981] could not open file to read NUMA node: /sys/bus/pci/devices/0000:01:00.0/numa_node\n",
      "Your kernel may have been built without NUMA support.\n",
      "2023-12-02 10:35:57.602297: I tensorflow/compiler/xla/stream_executor/cuda/cuda_gpu_executor.cc:981] could not open file to read NUMA node: /sys/bus/pci/devices/0000:01:00.0/numa_node\n",
      "Your kernel may have been built without NUMA support.\n",
      "2023-12-02 10:35:57.602357: I tensorflow/compiler/xla/stream_executor/cuda/cuda_gpu_executor.cc:981] could not open file to read NUMA node: /sys/bus/pci/devices/0000:01:00.0/numa_node\n",
      "Your kernel may have been built without NUMA support.\n",
      "2023-12-02 10:35:57.606745: I tensorflow/compiler/xla/stream_executor/cuda/cuda_gpu_executor.cc:981] could not open file to read NUMA node: /sys/bus/pci/devices/0000:01:00.0/numa_node\n",
      "Your kernel may have been built without NUMA support.\n",
      "2023-12-02 10:35:57.606812: I tensorflow/compiler/xla/stream_executor/cuda/cuda_gpu_executor.cc:981] could not open file to read NUMA node: /sys/bus/pci/devices/0000:01:00.0/numa_node\n",
      "Your kernel may have been built without NUMA support.\n",
      "2023-12-02 10:35:57.606851: I tensorflow/compiler/xla/stream_executor/cuda/cuda_gpu_executor.cc:981] could not open file to read NUMA node: /sys/bus/pci/devices/0000:01:00.0/numa_node\n",
      "Your kernel may have been built without NUMA support.\n",
      "2023-12-02 10:36:00.770334: I tensorflow/compiler/xla/stream_executor/cuda/cuda_gpu_executor.cc:981] could not open file to read NUMA node: /sys/bus/pci/devices/0000:01:00.0/numa_node\n",
      "Your kernel may have been built without NUMA support.\n",
      "2023-12-02 10:36:00.770524: I tensorflow/compiler/xla/stream_executor/cuda/cuda_gpu_executor.cc:981] could not open file to read NUMA node: /sys/bus/pci/devices/0000:01:00.0/numa_node\n",
      "Your kernel may have been built without NUMA support.\n",
      "2023-12-02 10:36:00.770546: I tensorflow/core/common_runtime/gpu/gpu_device.cc:1726] Could not identify NUMA node of platform GPU id 0, defaulting to 0.  Your kernel may not have been built with NUMA support.\n",
      "2023-12-02 10:36:00.770615: I tensorflow/compiler/xla/stream_executor/cuda/cuda_gpu_executor.cc:981] could not open file to read NUMA node: /sys/bus/pci/devices/0000:01:00.0/numa_node\n",
      "Your kernel may have been built without NUMA support.\n",
      "2023-12-02 10:36:00.770825: I tensorflow/core/common_runtime/gpu/gpu_device.cc:1639] Created device /job:localhost/replica:0/task:0/device:GPU:0 with 2075 MB memory:  -> device: 0, name: NVIDIA GeForce GTX 1650 Ti, pci bus id: 0000:01:00.0, compute capability: 7.5\n"
     ]
    },
    {
     "name": "stdout",
     "output_type": "stream",
     "text": [
      "Model: \"model\"\n",
      "_________________________________________________________________\n",
      " Layer (type)                Output Shape              Param #   \n",
      "=================================================================\n",
      " input_1 (InputLayer)        [(None, 500, 1)]          0         \n",
      "                                                                 \n",
      " lstm (LSTM)                 (None, 500, 32)           4352      \n",
      "                                                                 \n",
      " lstm_1 (LSTM)               (None, 500, 32)           8320      \n",
      "                                                                 \n",
      " time_distributed (TimeDist  (None, 500, 16)           528       \n",
      " ributed)                                                        \n",
      "                                                                 \n",
      " dropout (Dropout)           (None, 500, 16)           0         \n",
      "                                                                 \n",
      " flatten (Flatten)           (None, 8000)              0         \n",
      "                                                                 \n",
      " dense_1 (Dense)             (None, 2)                 16002     \n",
      "                                                                 \n",
      "=================================================================\n",
      "Total params: 29202 (114.07 KB)\n",
      "Trainable params: 29202 (114.07 KB)\n",
      "Non-trainable params: 0 (0.00 Byte)\n",
      "_________________________________________________________________\n"
     ]
    }
   ],
   "source": [
    "def make_model(input_shape):\n",
    "    input_layer = keras.layers.Input(input_shape)\n",
    "    x = keras.layers.LSTM(32, return_sequences=True)(input_layer)\n",
    "    x = keras.layers.LSTM(32, return_sequences=True)(x)\n",
    "    x = keras.layers.TimeDistributed(keras.layers.Dense(16, activation='relu'))(x)\n",
    "    x = keras.layers.Dropout(0.4)(x)\n",
    "    x = keras.layers.Flatten()(x)\n",
    "    output_layer = keras.layers.Dense(num_classes, activation=\"softmax\")(x)\n",
    "    return keras.models.Model(inputs=input_layer, outputs=output_layer)\n",
    "\n",
    "model = make_model(input_shape=x_train.shape[1:])\n",
    "model.summary()"
   ]
  },
  {
   "cell_type": "markdown",
   "metadata": {
    "id": "RAs2PPCv2Ai2"
   },
   "source": [
    "## Train the model"
   ]
  },
  {
   "cell_type": "code",
   "execution_count": null,
   "metadata": {
    "colab": {
     "base_uri": "https://localhost:8080/"
    },
    "id": "VzRLPbM52Ai3",
    "outputId": "ca9a1756-e949-468c-feb4-28e9a53505e9",
    "tags": []
   },
   "outputs": [],
   "source": [
    "import os \n",
    "\n",
    "epochs = 250\n",
    "batch_size = 256\n",
    "\n",
    "def create_tb_callback(): \n",
    "\n",
    "    root_logdir = os.path.join(os.curdir, \"tb_logs\")\n",
    "\n",
    "    def get_run_logdir():    # use a new directory for each run\n",
    "        import time\n",
    "        run_id = time.strftime(\"run_%Y_%m_%d-%H_%M_%S\")\n",
    "        return os.path.join(root_logdir, run_id)\n",
    "\n",
    "    run_logdir = get_run_logdir()\n",
    "\n",
    "    tb_callback = keras.callbacks.TensorBoard(run_logdir)\n",
    "\n",
    "    return tb_callback\n",
    "\n",
    "\n",
    "callbacks = [\n",
    "    keras.callbacks.EarlyStopping(\n",
    "        monitor=\"val_accuracy\", patience=50, restore_best_weights=True\n",
    "    ),\n",
    "#     keras.callbacks.ModelCheckpoint(\n",
    "#         \"best_model\", save_best_only=True, monitor=\"val_accuracy\"\n",
    "#     ),\n",
    "    \n",
    "    create_tb_callback()\n",
    "]\n",
    "model.compile(\n",
    "    optimizer=keras.optimizers.Adam(),\n",
    "    loss=\"sparse_categorical_crossentropy\",\n",
    "    metrics=[\"accuracy\"],\n",
    ")\n",
    "\n",
    "model.fit(\n",
    "    x_train,\n",
    "    y_train,\n",
    "    batch_size=batch_size,\n",
    "    epochs=epochs,\n",
    "    callbacks=callbacks,\n",
    "    validation_split=0.2,\n",
    "    verbose=1,\n",
    ")"
   ]
  },
  {
   "cell_type": "markdown",
   "metadata": {
    "id": "9viocqIp2Ai3"
   },
   "source": [
    "## Evaluate model on test data"
   ]
  },
  {
   "cell_type": "code",
   "execution_count": 14,
   "metadata": {
    "id": "rpnx7E3u40Eg"
   },
   "outputs": [
    {
     "name": "stdout",
     "output_type": "stream",
     "text": [
      "42/42 [==============================] - 4s 65ms/step - loss: 0.2822 - accuracy: 0.9121\n",
      "Test accuracy 0.9121212363243103\n",
      "Test loss 0.2822306454181671\n"
     ]
    }
   ],
   "source": [
    "# model = keras.models.load_model(\"best_model\")\n",
    "\n",
    "test_loss, test_acc = model.evaluate(x_test, y_test)\n",
    "\n",
    "print(\"Test accuracy\", test_acc)\n",
    "print(\"Test loss\", test_loss)"
   ]
  },
  {
   "cell_type": "markdown",
   "metadata": {
    "id": "LfyeiRLM2Ai3"
   },
   "source": [
    "## Visualize training using Tensorboard"
   ]
  },
  {
   "cell_type": "code",
   "execution_count": 15,
   "metadata": {
    "colab": {
     "base_uri": "https://localhost:8080/",
     "height": 476
    },
    "id": "amK-p6U12Ai4",
    "outputId": "aef1b0d1-3e30-4183-fe53-6ffbf7b13dfa"
   },
   "outputs": [
    {
     "data": {
      "text/plain": [
       "ERROR: Failed to launch TensorBoard (exited with 1).\n",
       "Contents of stderr:\n",
       "2023-12-02 10:46:18.739614: I tensorflow/core/platform/cpu_feature_guard.cc:182] This TensorFlow binary is optimized to use available CPU instructions in performance-critical operations.\n",
       "To enable the following instructions: AVX2 FMA, in other operations, rebuild TensorFlow with the appropriate compiler flags.\n",
       "2023-12-02 10:46:19.501037: W tensorflow/compiler/tf2tensorrt/utils/py_utils.cc:38] TF-TRT Warning: Could not find TensorRT\n",
       "2023-12-02 10:46:20.368464: I tensorflow/compiler/xla/stream_executor/cuda/cuda_gpu_executor.cc:981] could not open file to read NUMA node: /sys/bus/pci/devices/0000:01:00.0/numa_node\n",
       "Your kernel may have been built without NUMA support.\n",
       "2023-12-02 10:46:20.394992: I tensorflow/compiler/xla/stream_executor/cuda/cuda_gpu_executor.cc:981] could not open file to read NUMA node: /sys/bus/pci/devices/0000:01:00.0/numa_node\n",
       "Your kernel may have been built without NUMA support.\n",
       "2023-12-02 10:46:20.395062: I tensorflow/compiler/xla/stream_executor/cuda/cuda_gpu_executor.cc:981] could not open file to read NUMA node: /sys/bus/pci/devices/0000:01:00.0/numa_node\n",
       "Your kernel may have been built without NUMA support.\n",
       "\n",
       "NOTE: Using experimental fast data loading logic. To disable, pass\n",
       "    \"--load_fast=false\" and report issues on GitHub. More details:\n",
       "    https://github.com/tensorflow/tensorboard/issues/4784\n",
       "\n",
       "Address already in use\n",
       "Port 6006 is in use by another program. Either identify and stop that program, or start the server with a different port."
      ]
     },
     "metadata": {},
     "output_type": "display_data"
    }
   ],
   "source": [
    "%load_ext tensorboard\n",
    "\n",
    "%tensorboard --logdir tb_logs"
   ]
  },
  {
   "cell_type": "markdown",
   "metadata": {
    "id": "8DW-SDUr2Ai4"
   },
   "source": [
    "We can see how the training accuracy reaches almost 1 after 100 epochs.\n",
    "However, the validation accuracy is stuck at around 0.88. The model is clearly overfitting. Try experimenting with other regularization methods such as L1/L2. "
   ]
  },
  {
   "cell_type": "code",
   "execution_count": null,
   "metadata": {},
   "outputs": [],
   "source": []
  }
 ],
 "metadata": {
  "accelerator": "GPU",
  "colab": {
   "gpuType": "T4",
   "name": "timeseries_classification_from_scratch",
   "provenance": []
  },
  "kernelspec": {
   "display_name": "Python 3 (ipykernel)",
   "language": "python",
   "name": "python3"
  },
  "language_info": {
   "codemirror_mode": {
    "name": "ipython",
    "version": 3
   },
   "file_extension": ".py",
   "mimetype": "text/x-python",
   "name": "python",
   "nbconvert_exporter": "python",
   "pygments_lexer": "ipython3",
   "version": "3.11.5"
  }
 },
 "nbformat": 4,
 "nbformat_minor": 4
}
