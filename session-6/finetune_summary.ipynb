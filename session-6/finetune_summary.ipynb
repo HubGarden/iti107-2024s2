{
 "cells": [
  {
   "cell_type": "markdown",
   "id": "633a00af",
   "metadata": {
    "colab_type": "text",
    "id": "view-in-github"
   },
   "source": [
    "<a href=\"https://colab.research.google.com/github/nyp-sit/iti107-2024S2/blob/main/session-7/finetune_summary.ipynb\" target=\"_parent\"><img src=\"https://colab.research.google.com/assets/colab-badge.svg\" alt=\"Open In Colab\"/></a>"
   ]
  },
  {
   "cell_type": "markdown",
   "id": "28304084-e6f6-45cf-9076-8dc439ef13e4",
   "metadata": {
    "id": "28304084-e6f6-45cf-9076-8dc439ef13e4"
   },
   "source": [
    "# Fine-Tune a Causal Language Model for Dialogue Summarization"
   ]
  },
  {
   "cell_type": "markdown",
   "id": "dc73e16b-474b-40e9-bbaf-6f43479f018b",
   "metadata": {
    "id": "dc73e16b-474b-40e9-bbaf-6f43479f018b"
   },
   "source": [
    "In this exercise, you will fine-tune Meta's Llama 3.2 LLM for enhanced dialogue summarization. We will explore how to use the Huggingface TRL (Transformer Reinforcement Learning) library to help us to perform Supervised Finetuning (SFT).  We will explore the use of Parameter Efficient Fine-Tuning (PEFT) for efficient and fast finetuning, and evaluate the resulting model using ROUGE metrics."
   ]
  },
  {
   "cell_type": "code",
   "execution_count": 1,
   "id": "f022ce84-192b-4f62-8385-2cf571289117",
   "metadata": {
    "id": "f022ce84-192b-4f62-8385-2cf571289117"
   },
   "outputs": [],
   "source": [
    "%%capture\n",
    "!pip install -q accelerate peft transformers trl\n",
    "!pip install -U bitsandbytes"
   ]
  },
  {
   "cell_type": "code",
   "execution_count": 2,
   "id": "c84ed7ea-3707-445a-a266-e4181546f2a7",
   "metadata": {
    "id": "c84ed7ea-3707-445a-a266-e4181546f2a7"
   },
   "outputs": [],
   "source": [
    "from transformers import AutoTokenizer, AutoModelForCausalLM, BitsAndBytesConfig\n",
    "from datasets import load_dataset\n",
    "import torch"
   ]
  },
  {
   "cell_type": "markdown",
   "id": "12011343-2a10-426a-bf38-6fc3f43766f7",
   "metadata": {
    "id": "12011343-2a10-426a-bf38-6fc3f43766f7"
   },
   "source": [
    "## Templating Instruction Data\n",
    "\n",
    "To have the LLM follow instructions, we will need to prepare instruction data that follows a chat template.\n",
    "\n",
    "<img src=\"https://github.com/nyp-sit/iti107-2024S2/blob/main/assets/chat_template.png?raw=true\" />\n",
    "\n",
    "This chat template differentiates between what the LLM has generated and what the user has generated. May LLM chat models that are available on HuggingFace comes with built-in chat template that you can use."
   ]
  },
  {
   "cell_type": "code",
   "execution_count": 3,
   "id": "16862cf7-29c7-47b0-8f33-053428b2bd78",
   "metadata": {
    "id": "16862cf7-29c7-47b0-8f33-053428b2bd78"
   },
   "outputs": [],
   "source": [
    "# This is the chat model of TinyLlama. We only load it because we want to use it's chat template to format our data\n",
    "chat_model=\"meta-llama/Llama-3.2-1B-Instruct\"\n",
    "\n",
    "template_tokenizer = AutoTokenizer.from_pretrained(chat_model)"
   ]
  },
  {
   "cell_type": "code",
   "execution_count": 4,
   "id": "3fff006d-9431-4748-9f4f-b0ce081d7295",
   "metadata": {
    "id": "3fff006d-9431-4748-9f4f-b0ce081d7295"
   },
   "outputs": [
    {
     "data": {
      "text/plain": [
       "'{{- bos_token }}\\n{%- if custom_tools is defined %}\\n    {%- set tools = custom_tools %}\\n{%- endif %}\\n{%- if not tools_in_user_message is defined %}\\n    {%- set tools_in_user_message = true %}\\n{%- endif %}\\n{%- if not date_string is defined %}\\n    {%- if strftime_now is defined %}\\n        {%- set date_string = strftime_now(\"%d %b %Y\") %}\\n    {%- else %}\\n        {%- set date_string = \"26 Jul 2024\" %}\\n    {%- endif %}\\n{%- endif %}\\n{%- if not tools is defined %}\\n    {%- set tools = none %}\\n{%- endif %}\\n\\n{#- This block extracts the system message, so we can slot it into the right place. #}\\n{%- if messages[0][\\'role\\'] == \\'system\\' %}\\n    {%- set system_message = messages[0][\\'content\\']|trim %}\\n    {%- set messages = messages[1:] %}\\n{%- else %}\\n    {%- set system_message = \"\" %}\\n{%- endif %}\\n\\n{#- System message #}\\n{{- \"<|start_header_id|>system<|end_header_id|>\\\\n\\\\n\" }}\\n{%- if tools is not none %}\\n    {{- \"Environment: ipython\\\\n\" }}\\n{%- endif %}\\n{{- \"Cutting Knowledge Date: December 2023\\\\n\" }}\\n{{- \"Today Date: \" + date_string + \"\\\\n\\\\n\" }}\\n{%- if tools is not none and not tools_in_user_message %}\\n    {{- \"You have access to the following functions. To call a function, please respond with JSON for a function call.\" }}\\n    {{- \\'Respond in the format {\"name\": function name, \"parameters\": dictionary of argument name and its value}.\\' }}\\n    {{- \"Do not use variables.\\\\n\\\\n\" }}\\n    {%- for t in tools %}\\n        {{- t | tojson(indent=4) }}\\n        {{- \"\\\\n\\\\n\" }}\\n    {%- endfor %}\\n{%- endif %}\\n{{- system_message }}\\n{{- \"<|eot_id|>\" }}\\n\\n{#- Custom tools are passed in a user message with some extra guidance #}\\n{%- if tools_in_user_message and not tools is none %}\\n    {#- Extract the first user message so we can plug it in here #}\\n    {%- if messages | length != 0 %}\\n        {%- set first_user_message = messages[0][\\'content\\']|trim %}\\n        {%- set messages = messages[1:] %}\\n    {%- else %}\\n        {{- raise_exception(\"Cannot put tools in the first user message when there\\'s no first user message!\") }}\\n{%- endif %}\\n    {{- \\'<|start_header_id|>user<|end_header_id|>\\\\n\\\\n\\' -}}\\n    {{- \"Given the following functions, please respond with a JSON for a function call \" }}\\n    {{- \"with its proper arguments that best answers the given prompt.\\\\n\\\\n\" }}\\n    {{- \\'Respond in the format {\"name\": function name, \"parameters\": dictionary of argument name and its value}.\\' }}\\n    {{- \"Do not use variables.\\\\n\\\\n\" }}\\n    {%- for t in tools %}\\n        {{- t | tojson(indent=4) }}\\n        {{- \"\\\\n\\\\n\" }}\\n    {%- endfor %}\\n    {{- first_user_message + \"<|eot_id|>\"}}\\n{%- endif %}\\n\\n{%- for message in messages %}\\n    {%- if not (message.role == \\'ipython\\' or message.role == \\'tool\\' or \\'tool_calls\\' in message) %}\\n        {{- \\'<|start_header_id|>\\' + message[\\'role\\'] + \\'<|end_header_id|>\\\\n\\\\n\\'+ message[\\'content\\'] | trim + \\'<|eot_id|>\\' }}\\n    {%- elif \\'tool_calls\\' in message %}\\n        {%- if not message.tool_calls|length == 1 %}\\n            {{- raise_exception(\"This model only supports single tool-calls at once!\") }}\\n        {%- endif %}\\n        {%- set tool_call = message.tool_calls[0].function %}\\n        {{- \\'<|start_header_id|>assistant<|end_header_id|>\\\\n\\\\n\\' -}}\\n        {{- \\'{\"name\": \"\\' + tool_call.name + \\'\", \\' }}\\n        {{- \\'\"parameters\": \\' }}\\n        {{- tool_call.arguments | tojson }}\\n        {{- \"}\" }}\\n        {{- \"<|eot_id|>\" }}\\n    {%- elif message.role == \"tool\" or message.role == \"ipython\" %}\\n        {{- \"<|start_header_id|>ipython<|end_header_id|>\\\\n\\\\n\" }}\\n        {%- if message.content is mapping or message.content is iterable %}\\n            {{- message.content | tojson }}\\n        {%- else %}\\n            {{- message.content }}\\n        {%- endif %}\\n        {{- \"<|eot_id|>\" }}\\n    {%- endif %}\\n{%- endfor %}\\n{%- if add_generation_prompt %}\\n    {{- \\'<|start_header_id|>assistant<|end_header_id|>\\\\n\\\\n\\' }}\\n{%- endif %}\\n'"
      ]
     },
     "execution_count": 4,
     "metadata": {},
     "output_type": "execute_result"
    }
   ],
   "source": [
    "template_tokenizer.get_chat_template()"
   ]
  },
  {
   "cell_type": "markdown",
   "id": "e60b383b-aad1-4ea6-a576-62d27aa44167",
   "metadata": {
    "id": "e60b383b-aad1-4ea6-a576-62d27aa44167"
   },
   "source": [
    "You can see that the template expects the prompt to include fields like role, content, and with content demarcated by `|user|`, `|assistant|` and `|system|`."
   ]
  },
  {
   "cell_type": "markdown",
   "id": "c592d791-896d-41d2-8db8-b1d73e49971e",
   "metadata": {
    "id": "c592d791-896d-41d2-8db8-b1d73e49971e"
   },
   "source": [
    "### Format the data according to chat template\n",
    "\n",
    "Let's download our data and format them according to the template given. We select a subset of 6000 samples to reduce training time.\n"
   ]
  },
  {
   "cell_type": "code",
   "execution_count": 5,
   "id": "d5511e86-af57-4f67-8546-75783fb92253",
   "metadata": {
    "id": "d5511e86-af57-4f67-8546-75783fb92253"
   },
   "outputs": [],
   "source": [
    "dataset_name = \"knkarthick/dialogsum\"\n",
    "dataset_train = load_dataset(dataset_name, split='train[:6000]')\n",
    "dataset_val = load_dataset(dataset_name, split='validation[:100]')\n",
    "dataset_test = load_dataset(dataset_name, split='test')"
   ]
  },
  {
   "cell_type": "code",
   "execution_count": 6,
   "id": "fa20ede9-b3b7-411e-ae5b-fdc82bcf9a29",
   "metadata": {
    "id": "fa20ede9-b3b7-411e-ae5b-fdc82bcf9a29"
   },
   "outputs": [
    {
     "name": "stdout",
     "output_type": "stream",
     "text": [
      "Dataset({\n",
      "    features: ['id', 'dialogue', 'summary', 'topic'],\n",
      "    num_rows: 100\n",
      "}) Dataset({\n",
      "    features: ['id', 'dialogue', 'summary', 'topic'],\n",
      "    num_rows: 1500\n",
      "})\n"
     ]
    }
   ],
   "source": [
    "print(dataset_val, dataset_test)"
   ]
  },
  {
   "cell_type": "markdown",
   "id": "70a6ebda-b3a7-4b57-a43d-7ec54552a04c",
   "metadata": {
    "id": "70a6ebda-b3a7-4b57-a43d-7ec54552a04c"
   },
   "source": [
    "Note that the completed prompt is put under 'text' field of the json. This is the default field that model will look for the text data."
   ]
  },
  {
   "cell_type": "code",
   "execution_count": 7,
   "id": "7c6928d0-c83b-41e8-a2c3-a63827b6c851",
   "metadata": {
    "id": "7c6928d0-c83b-41e8-a2c3-a63827b6c851"
   },
   "outputs": [],
   "source": [
    "def format_chat_template(row):\n",
    "    user_prompt = (\n",
    "        f\"Summarize this dialog:\\n{{dialog}}\\n---\\nSummary:\\n\"\n",
    "    )\n",
    "    user_prompt = user_prompt.format(dialog = row[\"dialogue\"])\n",
    "    row_json = [ {\"role\": \"system\", \"content\": \"You are a helpful assistant\" },\n",
    "                {\"role\": \"user\", \"content\": user_prompt},\n",
    "               {\"role\": \"assistant\", \"content\": row[\"summary\"]}]\n",
    "\n",
    "    prompt = template_tokenizer.apply_chat_template(row_json, tokenize=False)\n",
    "    # print(prompt)\n",
    "    return {\"text\": prompt}"
   ]
  },
  {
   "cell_type": "code",
   "execution_count": 8,
   "id": "debee8c3-bec5-420a-9535-e6bbb7afe3f8",
   "metadata": {
    "id": "debee8c3-bec5-420a-9535-e6bbb7afe3f8"
   },
   "outputs": [],
   "source": [
    "dataset_train = dataset_train.map(format_chat_template, remove_columns=list(dataset_train.features))\n",
    "dataset_val = dataset_val.map(format_chat_template, remove_columns=list(dataset_val.features))\n",
    "dataset_test = dataset_test.map(format_chat_template, remove_columns=list(dataset_test.features))"
   ]
  },
  {
   "cell_type": "markdown",
   "id": "a2265ec5-a1d7-429a-b4d5-4757377b2ced",
   "metadata": {
    "id": "a2265ec5-a1d7-429a-b4d5-4757377b2ced"
   },
   "source": [
    "Using the \"text\" column, we can explore these formatted prompts:"
   ]
  },
  {
   "cell_type": "code",
   "execution_count": 9,
   "id": "ed2558fe-dd49-436e-82ea-220564ea69d0",
   "metadata": {
    "id": "ed2558fe-dd49-436e-82ea-220564ea69d0"
   },
   "outputs": [
    {
     "data": {
      "text/plain": [
       "\"<|begin_of_text|><|start_header_id|>system<|end_header_id|>\\n\\nCutting Knowledge Date: December 2023\\nToday Date: 27 Oct 2024\\n\\nYou are a helpful assistant<|eot_id|><|start_header_id|>user<|end_header_id|>\\n\\nSummarize this dialog:\\n#Person1#: Hi, Mr. Smith. I'm Doctor Hawkins. Why are you here today?\\n#Person2#: I found it would be a good idea to get a check-up.\\n#Person1#: Yes, well, you haven't had one for 5 years. You should have one every year.\\n#Person2#: I know. I figure as long as there is nothing wrong, why go see the doctor?\\n#Person1#: Well, the best way to avoid serious illnesses is to find out about them early. So try to come at least once a year for your own good.\\n#Person2#: Ok.\\n#Person1#: Let me see here. Your eyes and ears look fine. Take a deep breath, please. Do you smoke, Mr. Smith?\\n#Person2#: Yes.\\n#Person1#: Smoking is the leading cause of lung cancer and heart disease, you know. You really should quit.\\n#Person2#: I've tried hundreds of times, but I just can't seem to kick the habit.\\n#Person1#: Well, we have classes and some medications that might help. I'll give you more information before you leave.\\n#Person2#: Ok, thanks doctor.\\n---\\nSummary:<|eot_id|><|start_header_id|>assistant<|end_header_id|>\\n\\nMr. Smith's getting a check-up, and Doctor Hawkins advises him to have one every year. Hawkins'll give some information about their classes and medications to help Mr. Smith quit smoking.<|eot_id|>\""
      ]
     },
     "execution_count": 9,
     "metadata": {},
     "output_type": "execute_result"
    }
   ],
   "source": [
    "dataset_train[0]['text']"
   ]
  },
  {
   "cell_type": "markdown",
   "id": "33dc659d-5e7c-4114-a4ae-2c27ccf4a2c1",
   "metadata": {
    "id": "33dc659d-5e7c-4114-a4ae-2c27ccf4a2c1"
   },
   "source": [
    "### Model Quantization\n",
    "\n",
    "Now that we have our data, we can start loading in our model. This is where we apply the Q in QLoRA, namely quantization. We use the\n",
    "bitsandbytes package to compress the pretrained model to a 4-bit representation.\n",
    "\n",
    "In BitsAndBytesConfig, you can define the quantization scheme. We follow the steps used in the original QLoRA paper and load the model in 4-bit (load_in_4bit) with a normalized float representation (bnb_4bit_quant_type) and double quantization (bnb_4bit_use_double_quant):"
   ]
  },
  {
   "cell_type": "code",
   "execution_count": 10,
   "id": "ac96ae31-af8a-40f7-a39e-b4649ba1b837",
   "metadata": {
    "id": "ac96ae31-af8a-40f7-a39e-b4649ba1b837"
   },
   "outputs": [],
   "source": [
    "model_name = \"meta-llama/Llama-3.2-1B\"\n",
    "\n",
    "# 4-bit quantization configuration - Q in QLoRA\n",
    "bnb_config = BitsAndBytesConfig(\n",
    "    load_in_4bit=True, # Use 4-bit precision model loading\n",
    "    bnb_4bit_quant_type=\"nf4\", # Quantization type\n",
    "    bnb_4bit_compute_dtype=\"float16\", # Compute dtype\n",
    "    bnb_4bit_use_double_quant=True, # Apply nested quantization\n",
    ")\n",
    "\n",
    "# Load the model to train on the GPU\n",
    "model = AutoModelForCausalLM.from_pretrained(\n",
    "    model_name,\n",
    "    device_map=\"cuda:0\",\n",
    "    # Leave this out for regular SFT\n",
    "    quantization_config=bnb_config,\n",
    ")\n",
    "\n"
   ]
  },
  {
   "cell_type": "markdown",
   "id": "37e19a36-b88b-4c9b-94f1-fc7c4775bac5",
   "metadata": {
    "id": "37e19a36-b88b-4c9b-94f1-fc7c4775bac5"
   },
   "source": [
    "### Test the Model with Zero Shot Inferencing\n",
    "\n",
    "Let's test the base model (non-instruction tuned model) with zero shot inferencing (i.e. ask it to summarize without giving any example. You can see that the model struggles to summarize the dialogue compared to the baseline summary, and it is just repeating the conversation."
   ]
  },
  {
   "cell_type": "code",
   "execution_count": 11,
   "id": "0f9e56be-0cfc-46bd-bbb6-0b3a6e7cc821",
   "metadata": {
    "id": "0f9e56be-0cfc-46bd-bbb6-0b3a6e7cc821"
   },
   "outputs": [
    {
     "name": "stderr",
     "output_type": "stream",
     "text": [
      "Setting `pad_token_id` to `eos_token_id`:None for open-end generation.\n",
      "Starting from v4.46, the `logits` model output will have the same type as the model (except at train time, where it will always be FP32)\n",
      "2024-10-28 19:35:45.233792: E external/local_xla/xla/stream_executor/cuda/cuda_fft.cc:477] Unable to register cuFFT factory: Attempting to register factory for plugin cuFFT when one has already been registered\n",
      "WARNING: All log messages before absl::InitializeLog() is called are written to STDERR\n",
      "E0000 00:00:1730115345.244746  870088 cuda_dnn.cc:8310] Unable to register cuDNN factory: Attempting to register factory for plugin cuDNN when one has already been registered\n",
      "E0000 00:00:1730115345.248118  870088 cuda_blas.cc:1418] Unable to register cuBLAS factory: Attempting to register factory for plugin cuBLAS when one has already been registered\n",
      "2024-10-28 19:35:45.260073: I tensorflow/core/platform/cpu_feature_guard.cc:210] This TensorFlow binary is optimized to use available CPU instructions in performance-critical operations.\n",
      "To enable the following instructions: AVX2 FMA, in other operations, rebuild TensorFlow with the appropriate compiler flags.\n"
     ]
    },
    {
     "name": "stdout",
     "output_type": "stream",
     "text": [
      "\n",
      "Summarize this dialog:\n",
      "#Person1#: I have a problem with my cable.\n",
      "#Person2#: What about it?\n",
      "#Person1#: My cable has been out for the past week or so.\n",
      "#Person2#: The cable is down right now. I am very sorry.\n",
      "#Person1#: When will it be working again?\n",
      "#Person2#: It should be back on in the next couple of days.\n",
      "#Person1#: Do I still have to pay for the cable?\n",
      "#Person2#: We're going to give you a credit while the cable is down.\n",
      "#Person1#: So, I don't have to pay for it?\n",
      "#Person2#: No, not until your cable comes back on.\n",
      "#Person1#: Okay, thanks for everything.\n",
      "#Person2#: You're welcome, and I apologize for the inconvenience.\n",
      "---\n",
      "Summary:\n",
      "#Person1#: I have a problem with my cable.\n",
      "#Person2#: What about it?\n",
      "#Person1#: My cable has been out for the past week or so.\n",
      "#Person2#: The cable is down right now. I am very sorry.\n",
      "#Person1#: When will it be working again?\n",
      "#Person2#: It should be back on in the next couple of days.\n",
      "#Person1#: Do I still have to pay for the cable?\n",
      "#Person2#: We're going to give you a credit while the cable is down.\n",
      "#Person1#: So, I don't have to pay for it?\n",
      "#Person2#: No, not until your cable comes back on.\n",
      "#Person1#: Okay, thanks for everything.\n",
      "#Person2#: You're welcome, and I apologize for the inconvenience.\n",
      "---\n",
      "\n",
      "## Example 1\n",
      "\n",
      "#Person1#: I have a problem with my cable.\n",
      "#Person2#: What about it?\n",
      "#Person1#: My cable has been out\n"
     ]
    }
   ],
   "source": [
    "eval_prompt = \"\"\"\n",
    "Summarize this dialog:\n",
    "#Person1#: I have a problem with my cable.\n",
    "#Person2#: What about it?\n",
    "#Person1#: My cable has been out for the past week or so.\n",
    "#Person2#: The cable is down right now. I am very sorry.\n",
    "#Person1#: When will it be working again?\n",
    "#Person2#: It should be back on in the next couple of days.\n",
    "#Person1#: Do I still have to pay for the cable?\n",
    "#Person2#: We're going to give you a credit while the cable is down.\n",
    "#Person1#: So, I don't have to pay for it?\n",
    "#Person2#: No, not until your cable comes back on.\n",
    "#Person1#: Okay, thanks for everything.\n",
    "#Person2#: You're welcome, and I apologize for the inconvenience.\n",
    "---\n",
    "Summary:\n",
    "\"\"\"\n",
    "\n",
    "tokenizer = AutoTokenizer.from_pretrained(model_name, trust_remote_code=True)\n",
    "model_input = tokenizer(eval_prompt, return_tensors=\"pt\").to(\"cuda:0\")\n",
    "\n",
    "model.eval()\n",
    "with torch.no_grad():   # no gradient update\n",
    "    print(tokenizer.decode(model.generate(**model_input, max_new_tokens=200)[0], skip_special_tokens=True))"
   ]
  },
  {
   "cell_type": "markdown",
   "id": "1c9cad99-f525-4de6-9458-23affaa28b47",
   "metadata": {
    "id": "1c9cad99-f525-4de6-9458-23affaa28b47"
   },
   "source": [
    "### LoRA Configuration\n",
    "\n",
    "We will be using LoRA to train our model. LoRA is supported in Hugging Face's PEFT library.\n",
    "Here are some explanation about the parameters used in the LoRA:\n",
    "- `r` - This is the rank of the compressed matrices. Increasing this value will also increase the sizes of compressed matrices leading to less compression and thereby improved representative power. Values typically range between 4 and 64.\n",
    "- `lora_alpha` - Controls the amount of change that is added to the original weights. In essence, it balances the knowledge of the original model with that of the new task. A rule of thumb is to choose a value twice the size of r.\n",
    "- `target_modules` - Controls which layers to target. The LoRA procedure can choose to ignore specific layers, like specific projection layers. This can speed up training but reduce performance and vice versa."
   ]
  },
  {
   "cell_type": "code",
   "execution_count": 12,
   "id": "b180947c-ddc3-4bda-980f-5afd27199d21",
   "metadata": {
    "id": "b180947c-ddc3-4bda-980f-5afd27199d21"
   },
   "outputs": [],
   "source": [
    "from peft import LoraConfig, prepare_model_for_kbit_training, get_peft_model\n",
    "\n",
    "# Prepare LoRA Configuration\n",
    "peft_config = LoraConfig(\n",
    "    lora_alpha=32,  # LoRA Scaling\n",
    "    lora_dropout=0.1,  # Dropout for LoRA Layers\n",
    "    r=64,  # Rank\n",
    "    bias=\"none\",\n",
    "    task_type=\"CAUSAL_LM\",\n",
    "    target_modules=  # Layers to target\n",
    "     ['k_proj', 'gate_proj', 'v_proj', 'up_proj', 'q_proj', 'o_proj', 'down_proj']\n",
    ")\n",
    "\n",
    "# prepare model for training\n",
    "model = prepare_model_for_kbit_training(model)\n",
    "model = get_peft_model(model, peft_config)"
   ]
  },
  {
   "cell_type": "markdown",
   "id": "lAwFsL21kfbO",
   "metadata": {
    "id": "lAwFsL21kfbO"
   },
   "source": [
    "Let's compare the number of trainable parameters of the PEFT model vs the base model."
   ]
  },
  {
   "cell_type": "code",
   "execution_count": 13,
   "id": "-Juhd3omkTHU",
   "metadata": {
    "id": "-Juhd3omkTHU"
   },
   "outputs": [
    {
     "name": "stdout",
     "output_type": "stream",
     "text": [
      "trainable params: 45,088,768 || all params: 1,280,903,168 || trainable%: 3.5201\n"
     ]
    }
   ],
   "source": [
    "model.print_trainable_parameters()"
   ]
  },
  {
   "cell_type": "markdown",
   "id": "d6f12c6f-df14-4b1d-8e1d-a15c22bd029e",
   "metadata": {
    "id": "d6f12c6f-df14-4b1d-8e1d-a15c22bd029e"
   },
   "source": [
    "### Training Configuration\n",
    "\n",
    "Next we need to set our training configuration. Since we are going to use SFTTrainer, we can specify the training arguments in SFTConfig.\n",
    "\n",
    "Note that we set `fp16` to True for mixed-precision training. If you are using Ampere and newer GPU architecture, you can set bf16 to better accuracy and faster training.\n",
    "\n",
    "Modern LLM has quite a large context window, typically more than a 100K. Many of the text sample we encountered are very much shorter than that. For more efficient use of the context window, Instead of having one text per sample in the batch and then padding to either the longest text or the maximal context of the model, we concatenate a lot of texts with a EOS token in between and cut chunks of the context size to fill the batch without any padding.\n",
    "\n",
    "<img src=\"https://github.com/nyp-sit/iti107-2024S2/blob/main/assets/packing.png?raw=1\" width=\"700\"/>\n",
    "\n",
    "TRL allows us to do this packing very easily, by just specifying `packing=True`.  Internally, a [`ConstantLengthDataset`](https://huggingface.co/docs/trl/en/sft_trainer#trl.trainer.ConstantLengthDataset) is being created so we can iterate over the dataset on fixed-length sequences."
   ]
  },
  {
   "cell_type": "code",
   "execution_count": 14,
   "id": "w2e2RJMO_VyJ",
   "metadata": {
    "id": "w2e2RJMO_VyJ"
   },
   "outputs": [],
   "source": [
    "import os\n",
    "\n",
    "os.environ[\"WANDB_PROJECT\"] = \"llama3.2-summarize\"\n",
    "# os.environ[\"WANDB_API_KEY\"] = \"Your secret wandb key\"\n",
    "\n",
    "## convenience method to generate unique run name for WanDB \n",
    "def get_run_id():\n",
    "    import time\n",
    "    run_id = time.strftime(\"run_%Y%m%d_%H%M%S\")\n",
    "    return run_id"
   ]
  },
  {
   "cell_type": "code",
   "execution_count": 15,
   "id": "de5f9d4e-3472-4898-9be2-f9f40a27fe32",
   "metadata": {
    "id": "de5f9d4e-3472-4898-9be2-f9f40a27fe32"
   },
   "outputs": [],
   "source": [
    "from trl import SFTConfig\n",
    "\n",
    "model.config.use_cache = False\n",
    "model.config.pretraining_tp = 1\n",
    "\n",
    "# Configure the tokenizer\n",
    "tokenizer = AutoTokenizer.from_pretrained(model_name, trust_remote_code=True)\n",
    "tokenizer.pad_token = tokenizer.eos_token\n",
    "tokenizer.padding_side = \"right\"\n",
    "\n",
    "# where to write the checkpoint to\n",
    "output_dir = \"./results\"\n",
    "\n",
    "sft_config = SFTConfig(\n",
    "    output_dir=output_dir,\n",
    "    per_device_train_batch_size=4,\n",
    "    per_device_eval_batch_size=2,\n",
    "    gradient_accumulation_steps=4,\n",
    "    optim=\"paged_adamw_32bit\",\n",
    "    learning_rate=2e-4,\n",
    "    lr_scheduler_type=\"cosine\",\n",
    "    # num_train_epochs=1,\n",
    "    logging_steps=5,\n",
    "    max_steps=200,\n",
    "    bf16=True,\n",
    "    # fp16=True\n",
    "    gradient_checkpointing=True,\n",
    "    resume_from_checkpoint=True,\n",
    "    packing=True,\n",
    "    eval_packing=True,\n",
    "    dataset_text_field=\"text\",\n",
    "    max_seq_length=1024,\n",
    "    save_strategy = \"steps\",\n",
    "    save_steps=5,\n",
    "    eval_strategy='steps',\n",
    "    eval_steps=5,\n",
    "    run_name=get_run_id()\n",
    ")"
   ]
  },
  {
   "cell_type": "code",
   "execution_count": null,
   "id": "9290aac1-0c8e-4d90-ba70-1b03757c9d32",
   "metadata": {
    "id": "9290aac1-0c8e-4d90-ba70-1b03757c9d32"
   },
   "outputs": [],
   "source": [
    "from trl import SFTTrainer\n",
    "\n",
    "# Set supervised fine-tuning parameters\n",
    "trainer = SFTTrainer(\n",
    "    model=model,\n",
    "    train_dataset=dataset_train,\n",
    "    eval_dataset=dataset_val,\n",
    "    # dataset_text_field=\"text\",\n",
    "    tokenizer=tokenizer,\n",
    "    # Leave this out for regular SFT\n",
    "    peft_config=peft_config,\n",
    "    args=sft_config\n",
    " )\n",
    "\n",
    "# Train model\n",
    "trainer.train()\n",
    "\n"
   ]
  },
  {
   "cell_type": "code",
   "execution_count": 17,
   "id": "36cac77f-d8b5-4c66-bfcf-5c95c0037ae6",
   "metadata": {
    "id": "36cac77f-d8b5-4c66-bfcf-5c95c0037ae6"
   },
   "outputs": [],
   "source": [
    "# Save QLoRA weights\n",
    "trainer.model.save_pretrained(\"Llama-3.2-1B-Summarizer-QLoRA\")"
   ]
  },
  {
   "cell_type": "code",
   "execution_count": 18,
   "id": "0004c4c1-d434-4f71-9068-933df0dc7d15",
   "metadata": {},
   "outputs": [
    {
     "data": {
      "application/vnd.jupyter.widget-view+json": {
       "model_id": "7a489e643132409b9ffa11432115a7e0",
       "version_major": 2,
       "version_minor": 0
      },
      "text/plain": [
       "VBox(children=(HTML(value='<center> <img\\nsrc=https://huggingface.co/front/assets/huggingface_logo-noborder.sv…"
      ]
     },
     "metadata": {},
     "output_type": "display_data"
    }
   ],
   "source": [
    "# from huggingface_hub import login\n",
    "# login()\n",
    "# ## push the model to hub\n",
    "# model.push_to_hub(\"khengkok/Llama-3.2-1B-Summarizer-QLoRA\")"
   ]
  },
  {
   "cell_type": "markdown",
   "id": "c2b0f3bc-21fe-43b4-9dcb-f7fac196c4ba",
   "metadata": {
    "id": "c2b0f3bc-21fe-43b4-9dcb-f7fac196c4ba"
   },
   "source": [
    "### Merge Weights\n",
    "\n",
    "After we have trained our QLoRA weights, we still need to combine them with the original weights to use them. We reload the model in 16 bits, instead of the quantized 4 bits, to merge the weights."
   ]
  },
  {
   "cell_type": "code",
   "execution_count": 23,
   "id": "fe985335-acfa-4ea2-95de-05fd4088286f",
   "metadata": {
    "id": "fe985335-acfa-4ea2-95de-05fd4088286f"
   },
   "outputs": [],
   "source": [
    "from peft import AutoPeftModelForCausalLM\n",
    "\n",
    "\n",
    "model = AutoPeftModelForCausalLM.from_pretrained(\n",
    "    \"Llama-3.2-1B-Summarizer-QLoRA\",\n",
    "    low_cpu_mem_usage=True,\n",
    "    device_map=\"auto\",\n",
    ")\n",
    "\n",
    "# Uncomment the following to load the pretrained model if you did not manage to train your own\n",
    "model = AutoPeftModelForCausalLM.from_pretrained(\n",
    "    \"khengkok/Llama-3.2-1B-Summarizer-QLoRA\",\n",
    "    low_cpu_mem_usage=True,\n",
    "    device_map=\"auto\",\n",
    ")\n",
    "\n",
    "# Merge LoRA and base model\n",
    "merged_model = model.merge_and_unload()"
   ]
  },
  {
   "cell_type": "markdown",
   "id": "a981eebf-12cc-45b6-a05b-f54e2a59eb2e",
   "metadata": {
    "id": "a981eebf-12cc-45b6-a05b-f54e2a59eb2e"
   },
   "source": [
    "After merging the adapter with the base model, we can use it with the prompt template that we defined earlier:"
   ]
  },
  {
   "cell_type": "code",
   "execution_count": 25,
   "id": "7db04c34-623f-4bec-8a85-b5e3024862ba",
   "metadata": {
    "id": "7db04c34-623f-4bec-8a85-b5e3024862ba",
    "scrolled": true
   },
   "outputs": [
    {
     "name": "stderr",
     "output_type": "stream",
     "text": [
      "Setting `pad_token_id` to `eos_token_id`:None for open-end generation.\n"
     ]
    },
    {
     "name": "stdout",
     "output_type": "stream",
     "text": [
      "<|begin_of_text|><|user|>\n",
      "Summarize this dialog:\n",
      "#Person1#: I have a problem with my cable.\n",
      "#Person2#: What about it?\n",
      "#Person1#: My cable has been out for the past week or so.\n",
      "#Person2#: The cable is down right now. I am very sorry.\n",
      "#Person1#: When will it be working again?\n",
      "#Person2#: It should be back on in the next couple of days.\n",
      "#Person1#: Do I still have to pay for the cable?\n",
      "#Person2#: We're going to give you a credit while the cable is down.\n",
      "#Person1#: So, I don't have to pay for it?\n",
      "#Person2#: No, not until your cable comes back on.\n",
      "#Person1#: Okay, thanks for everything.\n",
      "#Person2#: You're welcome, and I apologize for the inconvenience.\n",
      "---\n",
      "Summary:</s>\n",
      "<|assistant|>\n",
      "#Person1# phones #Person2# to complain about the cable and #Person2# promises to give #Person1# a credit. #Person1# is grateful for it. #Person2# apologizes for the inconvenience. #Person1# thinks #Person2# should apologize more. #Person2# agrees. #Person1# is satisfied. #Person2# thinks #Person1# will be satisfied with the service after the cable is back on. #Person1# thinks #Person2# is a helpful assistant. #Person1# will call #Person2# again. #Person2# will reply right away. #Person1# is satisfied. #Person1# thinks #Person1# will be satisfied with the service. #Person1# thinks #Person2# is a helpful assistant. #Person1# will call #Person2# again. #Person2# will reply right away. #Person1# is satisfied. #Person1# thinks #Person1# will be satisfied with the service. #Person1# thinks #Person2# is a helpful assistant. #Person1# will call #Person2# again. #Person2# will reply right away. #Person1# is satisfied. #Person1# thinks #Person1# will be satisfied with the service. #Person1# thinks #Person2# is a helpful assistant. #Person1# will call #Person2# again. #Person2# will reply right away. #Person1# is satisfied. #Person1# thinks #Person1# will be satisfied with\n"
     ]
    }
   ],
   "source": [
    "eval_prompt = \"\"\"<|user|>\n",
    "Summarize this dialog:\n",
    "#Person1#: I have a problem with my cable.\n",
    "#Person2#: What about it?\n",
    "#Person1#: My cable has been out for the past week or so.\n",
    "#Person2#: The cable is down right now. I am very sorry.\n",
    "#Person1#: When will it be working again?\n",
    "#Person2#: It should be back on in the next couple of days.\n",
    "#Person1#: Do I still have to pay for the cable?\n",
    "#Person2#: We're going to give you a credit while the cable is down.\n",
    "#Person1#: So, I don't have to pay for it?\n",
    "#Person2#: No, not until your cable comes back on.\n",
    "#Person1#: Okay, thanks for everything.\n",
    "#Person2#: You're welcome, and I apologize for the inconvenience.\n",
    "---\n",
    "Summary:</s>\n",
    "<|assistant|>\n",
    "\"\"\"\n",
    "\n",
    "from transformers import TextStreamer\n",
    "from transformers import pipeline\n",
    "\n",
    "model_input = tokenizer(eval_prompt, return_tensors=\"pt\").to(\"cuda\")\n",
    "\n",
    "# Run our instruction-tuned model\n",
    "# pipe = pipeline(task=\"text-generation\", model=merged_model, tokenizer=tokenizer, max_new_tokens=200)\n",
    "# print(pipe(eval_prompt)[0][\"generated_text\"])\n",
    "\n",
    "\n",
    "# #Streaming support\n",
    "streamer = TextStreamer(tokenizer)\n",
    "merged_model.eval()\n",
    "with torch.no_grad():\n",
    "    merged_model.generate(**model_input, streamer=streamer, max_length=512)"
   ]
  },
  {
   "cell_type": "markdown",
   "id": "e586894d-a59a-41fc-af0b-1baa67e734b0",
   "metadata": {
    "id": "e586894d-a59a-41fc-af0b-1baa67e734b0"
   },
   "source": [
    "Good reference:\n",
    "\n",
    "https://wandb.ai/capecape/alpaca_ft/reports/How-to-Fine-tune-an-LLM-Part-3-The-HuggingFace-Trainer--Vmlldzo1OTEyNjMy\n"
   ]
  }
 ],
 "metadata": {
  "accelerator": "GPU",
  "colab": {
   "gpuType": "T4",
   "include_colab_link": true,
   "provenance": []
  },
  "kernelspec": {
   "display_name": "Python 3 (ipykernel)",
   "language": "python",
   "name": "python3"
  },
  "language_info": {
   "codemirror_mode": {
    "name": "ipython",
    "version": 3
   },
   "file_extension": ".py",
   "mimetype": "text/x-python",
   "name": "python",
   "nbconvert_exporter": "python",
   "pygments_lexer": "ipython3",
   "version": "3.10.15"
  }
 },
 "nbformat": 4,
 "nbformat_minor": 5
}
